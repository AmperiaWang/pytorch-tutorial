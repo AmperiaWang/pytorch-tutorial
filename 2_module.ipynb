{
 "cells": [
  {
   "cell_type": "markdown",
   "metadata": {},
   "source": [
    "# 2 模块\n",
    "\n",
    "## 2.1 模块是什么\n",
    "\n",
    "模块是torch中能够进行计算并"
   ]
  }
 ],
 "metadata": {
  "language_info": {
   "name": "python"
  },
  "orig_nbformat": 4
 },
 "nbformat": 4,
 "nbformat_minor": 2
}
