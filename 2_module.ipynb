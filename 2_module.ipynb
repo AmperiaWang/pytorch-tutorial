{
 "cells": [
  {
   "cell_type": "markdown",
   "metadata": {},
   "source": [
    "# 2 模块\n",
    "\n",
    "## 2.1 模块是什么\n",
    "\n",
    "模块是PyTorch中用于组成神经网络的各个组件。在模块的`__init__`函数中，定义了各种参数；在模块的`forward`函数中，则定义了张量在该模块中的处理方法。"
   ]
  },
  {
   "cell_type": "code",
   "execution_count": 1,
   "metadata": {},
   "outputs": [],
   "source": [
    "import torch\n",
    "import torch.nn as nn\n",
    "from rich import print"
   ]
  },
  {
   "cell_type": "code",
   "execution_count": 3,
   "metadata": {},
   "outputs": [],
   "source": [
    "class LinearAdd(nn.Module):\n",
    "    def __init__(self, a: float, b: float) -> None:\n",
    "        super().__init__()\n",
    "        self.a = a\n",
    "        self.b = b\n",
    "    \n",
    "\n",
    "    def forward(self, x: torch.Tensor, y: torch.Tensor) -> torch.Tensor:\n",
    "        return self.a * x + self.b * y"
   ]
  },
  {
   "cell_type": "markdown",
   "metadata": {},
   "source": [
    "如上所示，我们定义好了一个叫做`LinearAdd`的模块。它通过继承`nn.Module`类获取其所有特性。在`__init__`函数中，我们将两个固定的参数`a`和`b`传入至模块中，保存为它们的属性；随后，我们在`forward`函数中定义了对两个向量的处理方法：将它们加权求和后返回。\n",
    "\n",
    "当定义好这个模块之后，我们首先应当对模块实例化，以调用这个模块："
   ]
  },
  {
   "cell_type": "code",
   "execution_count": 4,
   "metadata": {},
   "outputs": [],
   "source": [
    "linear_add = LinearAdd(0.6, 0.4) # 调用__init__函数新建实例\n",
    "\n",
    "x = torch.tensor([1, 2, 3])\n",
    "y = torch.tensor([5, 6, 7])"
   ]
  },
  {
   "cell_type": "markdown",
   "metadata": {},
   "source": [
    "随后，我们就可以通过调用实例来执行前向传播，获取结果："
   ]
  },
  {
   "cell_type": "code",
   "execution_count": 5,
   "metadata": {},
   "outputs": [
    {
     "data": {
      "text/html": [
       "<pre style=\"white-space:pre;overflow-x:auto;line-height:normal;font-family:Menlo,'DejaVu Sans Mono',consolas,'Courier New',monospace\">张量z如下所示：\n",
       "</pre>\n"
      ],
      "text/plain": [
       "张量z如下所示：\n"
      ]
     },
     "metadata": {},
     "output_type": "display_data"
    },
    {
     "data": {
      "text/html": [
       "<pre style=\"white-space:pre;overflow-x:auto;line-height:normal;font-family:Menlo,'DejaVu Sans Mono',consolas,'Courier New',monospace\"><span style=\"color: #800080; text-decoration-color: #800080; font-weight: bold\">tensor</span><span style=\"font-weight: bold\">([</span><span style=\"color: #008080; text-decoration-color: #008080; font-weight: bold\">2.6000</span>, <span style=\"color: #008080; text-decoration-color: #008080; font-weight: bold\">3.6000</span>, <span style=\"color: #008080; text-decoration-color: #008080; font-weight: bold\">4.6000</span><span style=\"font-weight: bold\">])</span>\n",
       "</pre>\n"
      ],
      "text/plain": [
       "\u001b[1;35mtensor\u001b[0m\u001b[1m(\u001b[0m\u001b[1m[\u001b[0m\u001b[1;36m2.6000\u001b[0m, \u001b[1;36m3.6000\u001b[0m, \u001b[1;36m4.6000\u001b[0m\u001b[1m]\u001b[0m\u001b[1m)\u001b[0m\n"
      ]
     },
     "metadata": {},
     "output_type": "display_data"
    }
   ],
   "source": [
    "z = linear_add(x, y) # 调用forward函数前向传播\n",
    "\n",
    "print(\"张量z如下所示：\")\n",
    "print(z)"
   ]
  },
  {
   "cell_type": "markdown",
   "metadata": {},
   "source": [
    "可以看到，经过这个模块得到的张量与我们所期望的一致。\n",
    "\n",
    "## 2.2 常见的PyTorch预定义模块\n",
    "\n",
    "### 全连接操作\n",
    "\n",
    "在PyTorch中，负责全连接操作的模块为`torch.nn.Linear`。它接收2个参数：输入长度`in_features`和输出长度`out_features`，同时还有其它自定义参数。"
   ]
  },
  {
   "cell_type": "code",
   "execution_count": 7,
   "metadata": {},
   "outputs": [
    {
     "data": {
      "text/html": [
       "<pre style=\"white-space:pre;overflow-x:auto;line-height:normal;font-family:Menlo,'DejaVu Sans Mono',consolas,'Courier New',monospace\">示例输入为：\n",
       "</pre>\n"
      ],
      "text/plain": [
       "示例输入为：\n"
      ]
     },
     "metadata": {},
     "output_type": "display_data"
    },
    {
     "data": {
      "text/html": [
       "<pre style=\"white-space:pre;overflow-x:auto;line-height:normal;font-family:Menlo,'DejaVu Sans Mono',consolas,'Courier New',monospace\"><span style=\"color: #800080; text-decoration-color: #800080; font-weight: bold\">tensor</span><span style=\"font-weight: bold\">([[</span><span style=\"color: #008080; text-decoration-color: #008080; font-weight: bold\">0.7623</span>, <span style=\"color: #008080; text-decoration-color: #008080; font-weight: bold\">0.4492</span>, <span style=\"color: #008080; text-decoration-color: #008080; font-weight: bold\">0.6383</span>, <span style=\"color: #008080; text-decoration-color: #008080; font-weight: bold\">0.7342</span>, <span style=\"color: #008080; text-decoration-color: #008080; font-weight: bold\">0.5156</span>, <span style=\"color: #008080; text-decoration-color: #008080; font-weight: bold\">0.8452</span>, <span style=\"color: #008080; text-decoration-color: #008080; font-weight: bold\">0.2779</span>, <span style=\"color: #008080; text-decoration-color: #008080; font-weight: bold\">0.8197</span>, <span style=\"color: #008080; text-decoration-color: #008080; font-weight: bold\">0.8732</span>,\n",
       "         <span style=\"color: #008080; text-decoration-color: #008080; font-weight: bold\">0.1768</span>, <span style=\"color: #008080; text-decoration-color: #008080; font-weight: bold\">0.1166</span>, <span style=\"color: #008080; text-decoration-color: #008080; font-weight: bold\">0.8044</span>, <span style=\"color: #008080; text-decoration-color: #008080; font-weight: bold\">0.3285</span>, <span style=\"color: #008080; text-decoration-color: #008080; font-weight: bold\">0.3672</span>, <span style=\"color: #008080; text-decoration-color: #008080; font-weight: bold\">0.1206</span>, <span style=\"color: #008080; text-decoration-color: #008080; font-weight: bold\">0.4046</span>, <span style=\"color: #008080; text-decoration-color: #008080; font-weight: bold\">0.6493</span>, <span style=\"color: #008080; text-decoration-color: #008080; font-weight: bold\">0.8440</span>,\n",
       "         <span style=\"color: #008080; text-decoration-color: #008080; font-weight: bold\">0.5121</span>, <span style=\"color: #008080; text-decoration-color: #008080; font-weight: bold\">0.6580</span>, <span style=\"color: #008080; text-decoration-color: #008080; font-weight: bold\">0.7513</span>, <span style=\"color: #008080; text-decoration-color: #008080; font-weight: bold\">0.5860</span>, <span style=\"color: #008080; text-decoration-color: #008080; font-weight: bold\">0.0327</span>, <span style=\"color: #008080; text-decoration-color: #008080; font-weight: bold\">0.0416</span><span style=\"font-weight: bold\">]</span>,\n",
       "        <span style=\"font-weight: bold\">[</span><span style=\"color: #008080; text-decoration-color: #008080; font-weight: bold\">0.8952</span>, <span style=\"color: #008080; text-decoration-color: #008080; font-weight: bold\">0.2976</span>, <span style=\"color: #008080; text-decoration-color: #008080; font-weight: bold\">0.0293</span>, <span style=\"color: #008080; text-decoration-color: #008080; font-weight: bold\">0.7941</span>, <span style=\"color: #008080; text-decoration-color: #008080; font-weight: bold\">0.9135</span>, <span style=\"color: #008080; text-decoration-color: #008080; font-weight: bold\">0.3753</span>, <span style=\"color: #008080; text-decoration-color: #008080; font-weight: bold\">0.4836</span>, <span style=\"color: #008080; text-decoration-color: #008080; font-weight: bold\">0.3909</span>, <span style=\"color: #008080; text-decoration-color: #008080; font-weight: bold\">0.4705</span>,\n",
       "         <span style=\"color: #008080; text-decoration-color: #008080; font-weight: bold\">0.2980</span>, <span style=\"color: #008080; text-decoration-color: #008080; font-weight: bold\">0.3726</span>, <span style=\"color: #008080; text-decoration-color: #008080; font-weight: bold\">0.8630</span>, <span style=\"color: #008080; text-decoration-color: #008080; font-weight: bold\">0.4943</span>, <span style=\"color: #008080; text-decoration-color: #008080; font-weight: bold\">0.6210</span>, <span style=\"color: #008080; text-decoration-color: #008080; font-weight: bold\">0.0974</span>, <span style=\"color: #008080; text-decoration-color: #008080; font-weight: bold\">0.1686</span>, <span style=\"color: #008080; text-decoration-color: #008080; font-weight: bold\">0.4687</span>, <span style=\"color: #008080; text-decoration-color: #008080; font-weight: bold\">0.6299</span>,\n",
       "         <span style=\"color: #008080; text-decoration-color: #008080; font-weight: bold\">0.9537</span>, <span style=\"color: #008080; text-decoration-color: #008080; font-weight: bold\">0.9456</span>, <span style=\"color: #008080; text-decoration-color: #008080; font-weight: bold\">0.4413</span>, <span style=\"color: #008080; text-decoration-color: #008080; font-weight: bold\">0.3724</span>, <span style=\"color: #008080; text-decoration-color: #008080; font-weight: bold\">0.6058</span>, <span style=\"color: #008080; text-decoration-color: #008080; font-weight: bold\">0.6643</span><span style=\"font-weight: bold\">]</span>,\n",
       "        <span style=\"font-weight: bold\">[</span><span style=\"color: #008080; text-decoration-color: #008080; font-weight: bold\">0.0125</span>, <span style=\"color: #008080; text-decoration-color: #008080; font-weight: bold\">0.6320</span>, <span style=\"color: #008080; text-decoration-color: #008080; font-weight: bold\">0.9324</span>, <span style=\"color: #008080; text-decoration-color: #008080; font-weight: bold\">0.8480</span>, <span style=\"color: #008080; text-decoration-color: #008080; font-weight: bold\">0.3232</span>, <span style=\"color: #008080; text-decoration-color: #008080; font-weight: bold\">0.8431</span>, <span style=\"color: #008080; text-decoration-color: #008080; font-weight: bold\">0.4861</span>, <span style=\"color: #008080; text-decoration-color: #008080; font-weight: bold\">0.5927</span>, <span style=\"color: #008080; text-decoration-color: #008080; font-weight: bold\">0.1391</span>,\n",
       "         <span style=\"color: #008080; text-decoration-color: #008080; font-weight: bold\">0.0474</span>, <span style=\"color: #008080; text-decoration-color: #008080; font-weight: bold\">0.8812</span>, <span style=\"color: #008080; text-decoration-color: #008080; font-weight: bold\">0.1125</span>, <span style=\"color: #008080; text-decoration-color: #008080; font-weight: bold\">0.2496</span>, <span style=\"color: #008080; text-decoration-color: #008080; font-weight: bold\">0.8658</span>, <span style=\"color: #008080; text-decoration-color: #008080; font-weight: bold\">0.4809</span>, <span style=\"color: #008080; text-decoration-color: #008080; font-weight: bold\">0.0229</span>, <span style=\"color: #008080; text-decoration-color: #008080; font-weight: bold\">0.4724</span>, <span style=\"color: #008080; text-decoration-color: #008080; font-weight: bold\">0.4830</span>,\n",
       "         <span style=\"color: #008080; text-decoration-color: #008080; font-weight: bold\">0.8300</span>, <span style=\"color: #008080; text-decoration-color: #008080; font-weight: bold\">0.9488</span>, <span style=\"color: #008080; text-decoration-color: #008080; font-weight: bold\">0.3790</span>, <span style=\"color: #008080; text-decoration-color: #008080; font-weight: bold\">0.3031</span>, <span style=\"color: #008080; text-decoration-color: #008080; font-weight: bold\">0.3192</span>, <span style=\"color: #008080; text-decoration-color: #008080; font-weight: bold\">0.9411</span><span style=\"font-weight: bold\">]</span>,\n",
       "        <span style=\"font-weight: bold\">[</span><span style=\"color: #008080; text-decoration-color: #008080; font-weight: bold\">0.7039</span>, <span style=\"color: #008080; text-decoration-color: #008080; font-weight: bold\">0.0142</span>, <span style=\"color: #008080; text-decoration-color: #008080; font-weight: bold\">0.6442</span>, <span style=\"color: #008080; text-decoration-color: #008080; font-weight: bold\">0.0775</span>, <span style=\"color: #008080; text-decoration-color: #008080; font-weight: bold\">0.9681</span>, <span style=\"color: #008080; text-decoration-color: #008080; font-weight: bold\">0.1995</span>, <span style=\"color: #008080; text-decoration-color: #008080; font-weight: bold\">0.2131</span>, <span style=\"color: #008080; text-decoration-color: #008080; font-weight: bold\">0.2489</span>, <span style=\"color: #008080; text-decoration-color: #008080; font-weight: bold\">0.8698</span>,\n",
       "         <span style=\"color: #008080; text-decoration-color: #008080; font-weight: bold\">0.7058</span>, <span style=\"color: #008080; text-decoration-color: #008080; font-weight: bold\">0.8775</span>, <span style=\"color: #008080; text-decoration-color: #008080; font-weight: bold\">0.7328</span>, <span style=\"color: #008080; text-decoration-color: #008080; font-weight: bold\">0.2645</span>, <span style=\"color: #008080; text-decoration-color: #008080; font-weight: bold\">0.4994</span>, <span style=\"color: #008080; text-decoration-color: #008080; font-weight: bold\">0.1355</span>, <span style=\"color: #008080; text-decoration-color: #008080; font-weight: bold\">0.2537</span>, <span style=\"color: #008080; text-decoration-color: #008080; font-weight: bold\">0.4815</span>, <span style=\"color: #008080; text-decoration-color: #008080; font-weight: bold\">0.5744</span>,\n",
       "         <span style=\"color: #008080; text-decoration-color: #008080; font-weight: bold\">0.8962</span>, <span style=\"color: #008080; text-decoration-color: #008080; font-weight: bold\">0.7026</span>, <span style=\"color: #008080; text-decoration-color: #008080; font-weight: bold\">0.2919</span>, <span style=\"color: #008080; text-decoration-color: #008080; font-weight: bold\">0.9637</span>, <span style=\"color: #008080; text-decoration-color: #008080; font-weight: bold\">0.7873</span>, <span style=\"color: #008080; text-decoration-color: #008080; font-weight: bold\">0.9279</span><span style=\"font-weight: bold\">]</span>,\n",
       "        <span style=\"font-weight: bold\">[</span><span style=\"color: #008080; text-decoration-color: #008080; font-weight: bold\">0.9138</span>, <span style=\"color: #008080; text-decoration-color: #008080; font-weight: bold\">0.2198</span>, <span style=\"color: #008080; text-decoration-color: #008080; font-weight: bold\">0.8207</span>, <span style=\"color: #008080; text-decoration-color: #008080; font-weight: bold\">0.9461</span>, <span style=\"color: #008080; text-decoration-color: #008080; font-weight: bold\">0.0985</span>, <span style=\"color: #008080; text-decoration-color: #008080; font-weight: bold\">0.0373</span>, <span style=\"color: #008080; text-decoration-color: #008080; font-weight: bold\">0.5371</span>, <span style=\"color: #008080; text-decoration-color: #008080; font-weight: bold\">0.5614</span>, <span style=\"color: #008080; text-decoration-color: #008080; font-weight: bold\">0.7007</span>,\n",
       "         <span style=\"color: #008080; text-decoration-color: #008080; font-weight: bold\">0.3083</span>, <span style=\"color: #008080; text-decoration-color: #008080; font-weight: bold\">0.9098</span>, <span style=\"color: #008080; text-decoration-color: #008080; font-weight: bold\">0.5054</span>, <span style=\"color: #008080; text-decoration-color: #008080; font-weight: bold\">0.2125</span>, <span style=\"color: #008080; text-decoration-color: #008080; font-weight: bold\">0.0278</span>, <span style=\"color: #008080; text-decoration-color: #008080; font-weight: bold\">0.4063</span>, <span style=\"color: #008080; text-decoration-color: #008080; font-weight: bold\">0.9883</span>, <span style=\"color: #008080; text-decoration-color: #008080; font-weight: bold\">0.4950</span>, <span style=\"color: #008080; text-decoration-color: #008080; font-weight: bold\">0.2429</span>,\n",
       "         <span style=\"color: #008080; text-decoration-color: #008080; font-weight: bold\">0.8464</span>, <span style=\"color: #008080; text-decoration-color: #008080; font-weight: bold\">0.1389</span>, <span style=\"color: #008080; text-decoration-color: #008080; font-weight: bold\">0.0064</span>, <span style=\"color: #008080; text-decoration-color: #008080; font-weight: bold\">0.8452</span>, <span style=\"color: #008080; text-decoration-color: #008080; font-weight: bold\">0.4633</span>, <span style=\"color: #008080; text-decoration-color: #008080; font-weight: bold\">0.2089</span><span style=\"font-weight: bold\">]</span>,\n",
       "        <span style=\"font-weight: bold\">[</span><span style=\"color: #008080; text-decoration-color: #008080; font-weight: bold\">0.1787</span>, <span style=\"color: #008080; text-decoration-color: #008080; font-weight: bold\">0.1477</span>, <span style=\"color: #008080; text-decoration-color: #008080; font-weight: bold\">0.4276</span>, <span style=\"color: #008080; text-decoration-color: #008080; font-weight: bold\">0.4765</span>, <span style=\"color: #008080; text-decoration-color: #008080; font-weight: bold\">0.2530</span>, <span style=\"color: #008080; text-decoration-color: #008080; font-weight: bold\">0.1638</span>, <span style=\"color: #008080; text-decoration-color: #008080; font-weight: bold\">0.4004</span>, <span style=\"color: #008080; text-decoration-color: #008080; font-weight: bold\">0.3261</span>, <span style=\"color: #008080; text-decoration-color: #008080; font-weight: bold\">0.2936</span>,\n",
       "         <span style=\"color: #008080; text-decoration-color: #008080; font-weight: bold\">0.6757</span>, <span style=\"color: #008080; text-decoration-color: #008080; font-weight: bold\">0.6817</span>, <span style=\"color: #008080; text-decoration-color: #008080; font-weight: bold\">0.5914</span>, <span style=\"color: #008080; text-decoration-color: #008080; font-weight: bold\">0.3955</span>, <span style=\"color: #008080; text-decoration-color: #008080; font-weight: bold\">0.2959</span>, <span style=\"color: #008080; text-decoration-color: #008080; font-weight: bold\">0.4667</span>, <span style=\"color: #008080; text-decoration-color: #008080; font-weight: bold\">0.4676</span>, <span style=\"color: #008080; text-decoration-color: #008080; font-weight: bold\">0.7198</span>, <span style=\"color: #008080; text-decoration-color: #008080; font-weight: bold\">0.8051</span>,\n",
       "         <span style=\"color: #008080; text-decoration-color: #008080; font-weight: bold\">0.7775</span>, <span style=\"color: #008080; text-decoration-color: #008080; font-weight: bold\">0.7573</span>, <span style=\"color: #008080; text-decoration-color: #008080; font-weight: bold\">0.0690</span>, <span style=\"color: #008080; text-decoration-color: #008080; font-weight: bold\">0.5316</span>, <span style=\"color: #008080; text-decoration-color: #008080; font-weight: bold\">0.5430</span>, <span style=\"color: #008080; text-decoration-color: #008080; font-weight: bold\">0.4055</span><span style=\"font-weight: bold\">]</span>,\n",
       "        <span style=\"font-weight: bold\">[</span><span style=\"color: #008080; text-decoration-color: #008080; font-weight: bold\">0.8510</span>, <span style=\"color: #008080; text-decoration-color: #008080; font-weight: bold\">0.3216</span>, <span style=\"color: #008080; text-decoration-color: #008080; font-weight: bold\">0.0661</span>, <span style=\"color: #008080; text-decoration-color: #008080; font-weight: bold\">0.0603</span>, <span style=\"color: #008080; text-decoration-color: #008080; font-weight: bold\">0.6310</span>, <span style=\"color: #008080; text-decoration-color: #008080; font-weight: bold\">0.3951</span>, <span style=\"color: #008080; text-decoration-color: #008080; font-weight: bold\">0.0798</span>, <span style=\"color: #008080; text-decoration-color: #008080; font-weight: bold\">0.8865</span>, <span style=\"color: #008080; text-decoration-color: #008080; font-weight: bold\">0.5700</span>,\n",
       "         <span style=\"color: #008080; text-decoration-color: #008080; font-weight: bold\">0.0838</span>, <span style=\"color: #008080; text-decoration-color: #008080; font-weight: bold\">0.4649</span>, <span style=\"color: #008080; text-decoration-color: #008080; font-weight: bold\">0.6971</span>, <span style=\"color: #008080; text-decoration-color: #008080; font-weight: bold\">0.1880</span>, <span style=\"color: #008080; text-decoration-color: #008080; font-weight: bold\">0.3011</span>, <span style=\"color: #008080; text-decoration-color: #008080; font-weight: bold\">0.0285</span>, <span style=\"color: #008080; text-decoration-color: #008080; font-weight: bold\">0.4931</span>, <span style=\"color: #008080; text-decoration-color: #008080; font-weight: bold\">0.3267</span>, <span style=\"color: #008080; text-decoration-color: #008080; font-weight: bold\">0.7722</span>,\n",
       "         <span style=\"color: #008080; text-decoration-color: #008080; font-weight: bold\">0.3185</span>, <span style=\"color: #008080; text-decoration-color: #008080; font-weight: bold\">0.2419</span>, <span style=\"color: #008080; text-decoration-color: #008080; font-weight: bold\">0.9308</span>, <span style=\"color: #008080; text-decoration-color: #008080; font-weight: bold\">0.2136</span>, <span style=\"color: #008080; text-decoration-color: #008080; font-weight: bold\">0.6691</span>, <span style=\"color: #008080; text-decoration-color: #008080; font-weight: bold\">0.6990</span><span style=\"font-weight: bold\">]</span>,\n",
       "        <span style=\"font-weight: bold\">[</span><span style=\"color: #008080; text-decoration-color: #008080; font-weight: bold\">0.4081</span>, <span style=\"color: #008080; text-decoration-color: #008080; font-weight: bold\">0.7668</span>, <span style=\"color: #008080; text-decoration-color: #008080; font-weight: bold\">0.7787</span>, <span style=\"color: #008080; text-decoration-color: #008080; font-weight: bold\">0.3402</span>, <span style=\"color: #008080; text-decoration-color: #008080; font-weight: bold\">0.6896</span>, <span style=\"color: #008080; text-decoration-color: #008080; font-weight: bold\">0.1693</span>, <span style=\"color: #008080; text-decoration-color: #008080; font-weight: bold\">0.0587</span>, <span style=\"color: #008080; text-decoration-color: #008080; font-weight: bold\">0.0941</span>, <span style=\"color: #008080; text-decoration-color: #008080; font-weight: bold\">0.4014</span>,\n",
       "         <span style=\"color: #008080; text-decoration-color: #008080; font-weight: bold\">0.5561</span>, <span style=\"color: #008080; text-decoration-color: #008080; font-weight: bold\">0.9554</span>, <span style=\"color: #008080; text-decoration-color: #008080; font-weight: bold\">0.6771</span>, <span style=\"color: #008080; text-decoration-color: #008080; font-weight: bold\">0.4805</span>, <span style=\"color: #008080; text-decoration-color: #008080; font-weight: bold\">0.4459</span>, <span style=\"color: #008080; text-decoration-color: #008080; font-weight: bold\">0.6923</span>, <span style=\"color: #008080; text-decoration-color: #008080; font-weight: bold\">0.9468</span>, <span style=\"color: #008080; text-decoration-color: #008080; font-weight: bold\">0.9655</span>, <span style=\"color: #008080; text-decoration-color: #008080; font-weight: bold\">0.5821</span>,\n",
       "         <span style=\"color: #008080; text-decoration-color: #008080; font-weight: bold\">0.8108</span>, <span style=\"color: #008080; text-decoration-color: #008080; font-weight: bold\">0.3350</span>, <span style=\"color: #008080; text-decoration-color: #008080; font-weight: bold\">0.1399</span>, <span style=\"color: #008080; text-decoration-color: #008080; font-weight: bold\">0.2873</span>, <span style=\"color: #008080; text-decoration-color: #008080; font-weight: bold\">0.2047</span>, <span style=\"color: #008080; text-decoration-color: #008080; font-weight: bold\">0.9658</span><span style=\"font-weight: bold\">]</span>,\n",
       "        <span style=\"font-weight: bold\">[</span><span style=\"color: #008080; text-decoration-color: #008080; font-weight: bold\">0.2366</span>, <span style=\"color: #008080; text-decoration-color: #008080; font-weight: bold\">0.1195</span>, <span style=\"color: #008080; text-decoration-color: #008080; font-weight: bold\">0.8375</span>, <span style=\"color: #008080; text-decoration-color: #008080; font-weight: bold\">0.7679</span>, <span style=\"color: #008080; text-decoration-color: #008080; font-weight: bold\">0.5440</span>, <span style=\"color: #008080; text-decoration-color: #008080; font-weight: bold\">0.1276</span>, <span style=\"color: #008080; text-decoration-color: #008080; font-weight: bold\">0.4840</span>, <span style=\"color: #008080; text-decoration-color: #008080; font-weight: bold\">0.0473</span>, <span style=\"color: #008080; text-decoration-color: #008080; font-weight: bold\">0.9416</span>,\n",
       "         <span style=\"color: #008080; text-decoration-color: #008080; font-weight: bold\">0.9766</span>, <span style=\"color: #008080; text-decoration-color: #008080; font-weight: bold\">0.7451</span>, <span style=\"color: #008080; text-decoration-color: #008080; font-weight: bold\">0.3044</span>, <span style=\"color: #008080; text-decoration-color: #008080; font-weight: bold\">0.6816</span>, <span style=\"color: #008080; text-decoration-color: #008080; font-weight: bold\">0.1015</span>, <span style=\"color: #008080; text-decoration-color: #008080; font-weight: bold\">0.9842</span>, <span style=\"color: #008080; text-decoration-color: #008080; font-weight: bold\">0.7974</span>, <span style=\"color: #008080; text-decoration-color: #008080; font-weight: bold\">0.0839</span>, <span style=\"color: #008080; text-decoration-color: #008080; font-weight: bold\">0.2002</span>,\n",
       "         <span style=\"color: #008080; text-decoration-color: #008080; font-weight: bold\">0.4660</span>, <span style=\"color: #008080; text-decoration-color: #008080; font-weight: bold\">0.5835</span>, <span style=\"color: #008080; text-decoration-color: #008080; font-weight: bold\">0.3173</span>, <span style=\"color: #008080; text-decoration-color: #008080; font-weight: bold\">0.8702</span>, <span style=\"color: #008080; text-decoration-color: #008080; font-weight: bold\">0.5265</span>, <span style=\"color: #008080; text-decoration-color: #008080; font-weight: bold\">0.2029</span><span style=\"font-weight: bold\">]</span>,\n",
       "        <span style=\"font-weight: bold\">[</span><span style=\"color: #008080; text-decoration-color: #008080; font-weight: bold\">0.7275</span>, <span style=\"color: #008080; text-decoration-color: #008080; font-weight: bold\">0.9857</span>, <span style=\"color: #008080; text-decoration-color: #008080; font-weight: bold\">0.0118</span>, <span style=\"color: #008080; text-decoration-color: #008080; font-weight: bold\">0.3275</span>, <span style=\"color: #008080; text-decoration-color: #008080; font-weight: bold\">0.0589</span>, <span style=\"color: #008080; text-decoration-color: #008080; font-weight: bold\">0.5126</span>, <span style=\"color: #008080; text-decoration-color: #008080; font-weight: bold\">0.5592</span>, <span style=\"color: #008080; text-decoration-color: #008080; font-weight: bold\">0.6488</span>, <span style=\"color: #008080; text-decoration-color: #008080; font-weight: bold\">0.7902</span>,\n",
       "         <span style=\"color: #008080; text-decoration-color: #008080; font-weight: bold\">0.4774</span>, <span style=\"color: #008080; text-decoration-color: #008080; font-weight: bold\">0.4880</span>, <span style=\"color: #008080; text-decoration-color: #008080; font-weight: bold\">0.7314</span>, <span style=\"color: #008080; text-decoration-color: #008080; font-weight: bold\">0.6530</span>, <span style=\"color: #008080; text-decoration-color: #008080; font-weight: bold\">0.8635</span>, <span style=\"color: #008080; text-decoration-color: #008080; font-weight: bold\">0.7472</span>, <span style=\"color: #008080; text-decoration-color: #008080; font-weight: bold\">0.3331</span>, <span style=\"color: #008080; text-decoration-color: #008080; font-weight: bold\">0.0993</span>, <span style=\"color: #008080; text-decoration-color: #008080; font-weight: bold\">0.4636</span>,\n",
       "         <span style=\"color: #008080; text-decoration-color: #008080; font-weight: bold\">0.2288</span>, <span style=\"color: #008080; text-decoration-color: #008080; font-weight: bold\">0.9994</span>, <span style=\"color: #008080; text-decoration-color: #008080; font-weight: bold\">0.5288</span>, <span style=\"color: #008080; text-decoration-color: #008080; font-weight: bold\">0.3932</span>, <span style=\"color: #008080; text-decoration-color: #008080; font-weight: bold\">0.0774</span>, <span style=\"color: #008080; text-decoration-color: #008080; font-weight: bold\">0.8933</span><span style=\"font-weight: bold\">]</span>,\n",
       "        <span style=\"font-weight: bold\">[</span><span style=\"color: #008080; text-decoration-color: #008080; font-weight: bold\">0.5079</span>, <span style=\"color: #008080; text-decoration-color: #008080; font-weight: bold\">0.7633</span>, <span style=\"color: #008080; text-decoration-color: #008080; font-weight: bold\">0.1753</span>, <span style=\"color: #008080; text-decoration-color: #008080; font-weight: bold\">0.4448</span>, <span style=\"color: #008080; text-decoration-color: #008080; font-weight: bold\">0.2593</span>, <span style=\"color: #008080; text-decoration-color: #008080; font-weight: bold\">0.3004</span>, <span style=\"color: #008080; text-decoration-color: #008080; font-weight: bold\">0.8854</span>, <span style=\"color: #008080; text-decoration-color: #008080; font-weight: bold\">0.2029</span>, <span style=\"color: #008080; text-decoration-color: #008080; font-weight: bold\">0.7240</span>,\n",
       "         <span style=\"color: #008080; text-decoration-color: #008080; font-weight: bold\">0.8772</span>, <span style=\"color: #008080; text-decoration-color: #008080; font-weight: bold\">0.5877</span>, <span style=\"color: #008080; text-decoration-color: #008080; font-weight: bold\">0.7767</span>, <span style=\"color: #008080; text-decoration-color: #008080; font-weight: bold\">0.6423</span>, <span style=\"color: #008080; text-decoration-color: #008080; font-weight: bold\">0.2119</span>, <span style=\"color: #008080; text-decoration-color: #008080; font-weight: bold\">0.9497</span>, <span style=\"color: #008080; text-decoration-color: #008080; font-weight: bold\">0.3881</span>, <span style=\"color: #008080; text-decoration-color: #008080; font-weight: bold\">0.0031</span>, <span style=\"color: #008080; text-decoration-color: #008080; font-weight: bold\">0.5632</span>,\n",
       "         <span style=\"color: #008080; text-decoration-color: #008080; font-weight: bold\">0.2758</span>, <span style=\"color: #008080; text-decoration-color: #008080; font-weight: bold\">0.0044</span>, <span style=\"color: #008080; text-decoration-color: #008080; font-weight: bold\">0.2446</span>, <span style=\"color: #008080; text-decoration-color: #008080; font-weight: bold\">0.1874</span>, <span style=\"color: #008080; text-decoration-color: #008080; font-weight: bold\">0.8278</span>, <span style=\"color: #008080; text-decoration-color: #008080; font-weight: bold\">0.6857</span><span style=\"font-weight: bold\">]</span>,\n",
       "        <span style=\"font-weight: bold\">[</span><span style=\"color: #008080; text-decoration-color: #008080; font-weight: bold\">0.9038</span>, <span style=\"color: #008080; text-decoration-color: #008080; font-weight: bold\">0.0716</span>, <span style=\"color: #008080; text-decoration-color: #008080; font-weight: bold\">0.8883</span>, <span style=\"color: #008080; text-decoration-color: #008080; font-weight: bold\">0.7081</span>, <span style=\"color: #008080; text-decoration-color: #008080; font-weight: bold\">0.3212</span>, <span style=\"color: #008080; text-decoration-color: #008080; font-weight: bold\">0.8256</span>, <span style=\"color: #008080; text-decoration-color: #008080; font-weight: bold\">0.4879</span>, <span style=\"color: #008080; text-decoration-color: #008080; font-weight: bold\">0.6371</span>, <span style=\"color: #008080; text-decoration-color: #008080; font-weight: bold\">0.7438</span>,\n",
       "         <span style=\"color: #008080; text-decoration-color: #008080; font-weight: bold\">0.1369</span>, <span style=\"color: #008080; text-decoration-color: #008080; font-weight: bold\">0.3399</span>, <span style=\"color: #008080; text-decoration-color: #008080; font-weight: bold\">0.8237</span>, <span style=\"color: #008080; text-decoration-color: #008080; font-weight: bold\">0.8692</span>, <span style=\"color: #008080; text-decoration-color: #008080; font-weight: bold\">0.3985</span>, <span style=\"color: #008080; text-decoration-color: #008080; font-weight: bold\">0.7850</span>, <span style=\"color: #008080; text-decoration-color: #008080; font-weight: bold\">0.8406</span>, <span style=\"color: #008080; text-decoration-color: #008080; font-weight: bold\">0.8894</span>, <span style=\"color: #008080; text-decoration-color: #008080; font-weight: bold\">0.4735</span>,\n",
       "         <span style=\"color: #008080; text-decoration-color: #008080; font-weight: bold\">0.8656</span>, <span style=\"color: #008080; text-decoration-color: #008080; font-weight: bold\">0.4068</span>, <span style=\"color: #008080; text-decoration-color: #008080; font-weight: bold\">0.7159</span>, <span style=\"color: #008080; text-decoration-color: #008080; font-weight: bold\">0.1402</span>, <span style=\"color: #008080; text-decoration-color: #008080; font-weight: bold\">0.2501</span>, <span style=\"color: #008080; text-decoration-color: #008080; font-weight: bold\">0.3329</span><span style=\"font-weight: bold\">]</span>,\n",
       "        <span style=\"font-weight: bold\">[</span><span style=\"color: #008080; text-decoration-color: #008080; font-weight: bold\">0.3607</span>, <span style=\"color: #008080; text-decoration-color: #008080; font-weight: bold\">0.0606</span>, <span style=\"color: #008080; text-decoration-color: #008080; font-weight: bold\">0.2636</span>, <span style=\"color: #008080; text-decoration-color: #008080; font-weight: bold\">0.0187</span>, <span style=\"color: #008080; text-decoration-color: #008080; font-weight: bold\">0.8026</span>, <span style=\"color: #008080; text-decoration-color: #008080; font-weight: bold\">0.2264</span>, <span style=\"color: #008080; text-decoration-color: #008080; font-weight: bold\">0.4512</span>, <span style=\"color: #008080; text-decoration-color: #008080; font-weight: bold\">0.0349</span>, <span style=\"color: #008080; text-decoration-color: #008080; font-weight: bold\">0.3901</span>,\n",
       "         <span style=\"color: #008080; text-decoration-color: #008080; font-weight: bold\">0.2393</span>, <span style=\"color: #008080; text-decoration-color: #008080; font-weight: bold\">0.3439</span>, <span style=\"color: #008080; text-decoration-color: #008080; font-weight: bold\">0.7951</span>, <span style=\"color: #008080; text-decoration-color: #008080; font-weight: bold\">0.5566</span>, <span style=\"color: #008080; text-decoration-color: #008080; font-weight: bold\">0.4257</span>, <span style=\"color: #008080; text-decoration-color: #008080; font-weight: bold\">0.5662</span>, <span style=\"color: #008080; text-decoration-color: #008080; font-weight: bold\">0.4564</span>, <span style=\"color: #008080; text-decoration-color: #008080; font-weight: bold\">0.6383</span>, <span style=\"color: #008080; text-decoration-color: #008080; font-weight: bold\">0.2197</span>,\n",
       "         <span style=\"color: #008080; text-decoration-color: #008080; font-weight: bold\">0.0145</span>, <span style=\"color: #008080; text-decoration-color: #008080; font-weight: bold\">0.2134</span>, <span style=\"color: #008080; text-decoration-color: #008080; font-weight: bold\">0.9869</span>, <span style=\"color: #008080; text-decoration-color: #008080; font-weight: bold\">0.8251</span>, <span style=\"color: #008080; text-decoration-color: #008080; font-weight: bold\">0.0700</span>, <span style=\"color: #008080; text-decoration-color: #008080; font-weight: bold\">0.0705</span><span style=\"font-weight: bold\">]</span>,\n",
       "        <span style=\"font-weight: bold\">[</span><span style=\"color: #008080; text-decoration-color: #008080; font-weight: bold\">0.3008</span>, <span style=\"color: #008080; text-decoration-color: #008080; font-weight: bold\">0.1006</span>, <span style=\"color: #008080; text-decoration-color: #008080; font-weight: bold\">0.6156</span>, <span style=\"color: #008080; text-decoration-color: #008080; font-weight: bold\">0.4474</span>, <span style=\"color: #008080; text-decoration-color: #008080; font-weight: bold\">0.2631</span>, <span style=\"color: #008080; text-decoration-color: #008080; font-weight: bold\">0.7130</span>, <span style=\"color: #008080; text-decoration-color: #008080; font-weight: bold\">0.5051</span>, <span style=\"color: #008080; text-decoration-color: #008080; font-weight: bold\">0.8267</span>, <span style=\"color: #008080; text-decoration-color: #008080; font-weight: bold\">0.4238</span>,\n",
       "         <span style=\"color: #008080; text-decoration-color: #008080; font-weight: bold\">0.6535</span>, <span style=\"color: #008080; text-decoration-color: #008080; font-weight: bold\">0.6982</span>, <span style=\"color: #008080; text-decoration-color: #008080; font-weight: bold\">0.1762</span>, <span style=\"color: #008080; text-decoration-color: #008080; font-weight: bold\">0.8963</span>, <span style=\"color: #008080; text-decoration-color: #008080; font-weight: bold\">0.6848</span>, <span style=\"color: #008080; text-decoration-color: #008080; font-weight: bold\">0.9918</span>, <span style=\"color: #008080; text-decoration-color: #008080; font-weight: bold\">0.5252</span>, <span style=\"color: #008080; text-decoration-color: #008080; font-weight: bold\">0.0097</span>, <span style=\"color: #008080; text-decoration-color: #008080; font-weight: bold\">0.8595</span>,\n",
       "         <span style=\"color: #008080; text-decoration-color: #008080; font-weight: bold\">0.9184</span>, <span style=\"color: #008080; text-decoration-color: #008080; font-weight: bold\">0.6012</span>, <span style=\"color: #008080; text-decoration-color: #008080; font-weight: bold\">0.2057</span>, <span style=\"color: #008080; text-decoration-color: #008080; font-weight: bold\">0.0190</span>, <span style=\"color: #008080; text-decoration-color: #008080; font-weight: bold\">0.7669</span>, <span style=\"color: #008080; text-decoration-color: #008080; font-weight: bold\">0.8043</span><span style=\"font-weight: bold\">]</span>,\n",
       "        <span style=\"font-weight: bold\">[</span><span style=\"color: #008080; text-decoration-color: #008080; font-weight: bold\">0.2415</span>, <span style=\"color: #008080; text-decoration-color: #008080; font-weight: bold\">0.6756</span>, <span style=\"color: #008080; text-decoration-color: #008080; font-weight: bold\">0.5670</span>, <span style=\"color: #008080; text-decoration-color: #008080; font-weight: bold\">0.3633</span>, <span style=\"color: #008080; text-decoration-color: #008080; font-weight: bold\">0.9305</span>, <span style=\"color: #008080; text-decoration-color: #008080; font-weight: bold\">0.1351</span>, <span style=\"color: #008080; text-decoration-color: #008080; font-weight: bold\">0.9881</span>, <span style=\"color: #008080; text-decoration-color: #008080; font-weight: bold\">0.8859</span>, <span style=\"color: #008080; text-decoration-color: #008080; font-weight: bold\">0.6021</span>,\n",
       "         <span style=\"color: #008080; text-decoration-color: #008080; font-weight: bold\">0.9049</span>, <span style=\"color: #008080; text-decoration-color: #008080; font-weight: bold\">0.4576</span>, <span style=\"color: #008080; text-decoration-color: #008080; font-weight: bold\">0.6921</span>, <span style=\"color: #008080; text-decoration-color: #008080; font-weight: bold\">0.9828</span>, <span style=\"color: #008080; text-decoration-color: #008080; font-weight: bold\">0.1330</span>, <span style=\"color: #008080; text-decoration-color: #008080; font-weight: bold\">0.9648</span>, <span style=\"color: #008080; text-decoration-color: #008080; font-weight: bold\">0.0944</span>, <span style=\"color: #008080; text-decoration-color: #008080; font-weight: bold\">0.6838</span>, <span style=\"color: #008080; text-decoration-color: #008080; font-weight: bold\">0.7029</span>,\n",
       "         <span style=\"color: #008080; text-decoration-color: #008080; font-weight: bold\">0.2011</span>, <span style=\"color: #008080; text-decoration-color: #008080; font-weight: bold\">0.1805</span>, <span style=\"color: #008080; text-decoration-color: #008080; font-weight: bold\">0.6594</span>, <span style=\"color: #008080; text-decoration-color: #008080; font-weight: bold\">0.9635</span>, <span style=\"color: #008080; text-decoration-color: #008080; font-weight: bold\">0.9402</span>, <span style=\"color: #008080; text-decoration-color: #008080; font-weight: bold\">0.0698</span><span style=\"font-weight: bold\">]</span>,\n",
       "        <span style=\"font-weight: bold\">[</span><span style=\"color: #008080; text-decoration-color: #008080; font-weight: bold\">0.1250</span>, <span style=\"color: #008080; text-decoration-color: #008080; font-weight: bold\">0.2533</span>, <span style=\"color: #008080; text-decoration-color: #008080; font-weight: bold\">0.8920</span>, <span style=\"color: #008080; text-decoration-color: #008080; font-weight: bold\">0.6441</span>, <span style=\"color: #008080; text-decoration-color: #008080; font-weight: bold\">0.8941</span>, <span style=\"color: #008080; text-decoration-color: #008080; font-weight: bold\">0.9447</span>, <span style=\"color: #008080; text-decoration-color: #008080; font-weight: bold\">0.0276</span>, <span style=\"color: #008080; text-decoration-color: #008080; font-weight: bold\">0.9619</span>, <span style=\"color: #008080; text-decoration-color: #008080; font-weight: bold\">0.7331</span>,\n",
       "         <span style=\"color: #008080; text-decoration-color: #008080; font-weight: bold\">0.4102</span>, <span style=\"color: #008080; text-decoration-color: #008080; font-weight: bold\">0.3067</span>, <span style=\"color: #008080; text-decoration-color: #008080; font-weight: bold\">0.1519</span>, <span style=\"color: #008080; text-decoration-color: #008080; font-weight: bold\">0.1545</span>, <span style=\"color: #008080; text-decoration-color: #008080; font-weight: bold\">0.3365</span>, <span style=\"color: #008080; text-decoration-color: #008080; font-weight: bold\">0.2861</span>, <span style=\"color: #008080; text-decoration-color: #008080; font-weight: bold\">0.0113</span>, <span style=\"color: #008080; text-decoration-color: #008080; font-weight: bold\">0.4404</span>, <span style=\"color: #008080; text-decoration-color: #008080; font-weight: bold\">0.7962</span>,\n",
       "         <span style=\"color: #008080; text-decoration-color: #008080; font-weight: bold\">0.1725</span>, <span style=\"color: #008080; text-decoration-color: #008080; font-weight: bold\">0.6810</span>, <span style=\"color: #008080; text-decoration-color: #008080; font-weight: bold\">0.3242</span>, <span style=\"color: #008080; text-decoration-color: #008080; font-weight: bold\">0.8868</span>, <span style=\"color: #008080; text-decoration-color: #008080; font-weight: bold\">0.2839</span>, <span style=\"color: #008080; text-decoration-color: #008080; font-weight: bold\">0.9124</span><span style=\"font-weight: bold\">]])</span>\n",
       "</pre>\n"
      ],
      "text/plain": [
       "\u001b[1;35mtensor\u001b[0m\u001b[1m(\u001b[0m\u001b[1m[\u001b[0m\u001b[1m[\u001b[0m\u001b[1;36m0.7623\u001b[0m, \u001b[1;36m0.4492\u001b[0m, \u001b[1;36m0.6383\u001b[0m, \u001b[1;36m0.7342\u001b[0m, \u001b[1;36m0.5156\u001b[0m, \u001b[1;36m0.8452\u001b[0m, \u001b[1;36m0.2779\u001b[0m, \u001b[1;36m0.8197\u001b[0m, \u001b[1;36m0.8732\u001b[0m,\n",
       "         \u001b[1;36m0.1768\u001b[0m, \u001b[1;36m0.1166\u001b[0m, \u001b[1;36m0.8044\u001b[0m, \u001b[1;36m0.3285\u001b[0m, \u001b[1;36m0.3672\u001b[0m, \u001b[1;36m0.1206\u001b[0m, \u001b[1;36m0.4046\u001b[0m, \u001b[1;36m0.6493\u001b[0m, \u001b[1;36m0.8440\u001b[0m,\n",
       "         \u001b[1;36m0.5121\u001b[0m, \u001b[1;36m0.6580\u001b[0m, \u001b[1;36m0.7513\u001b[0m, \u001b[1;36m0.5860\u001b[0m, \u001b[1;36m0.0327\u001b[0m, \u001b[1;36m0.0416\u001b[0m\u001b[1m]\u001b[0m,\n",
       "        \u001b[1m[\u001b[0m\u001b[1;36m0.8952\u001b[0m, \u001b[1;36m0.2976\u001b[0m, \u001b[1;36m0.0293\u001b[0m, \u001b[1;36m0.7941\u001b[0m, \u001b[1;36m0.9135\u001b[0m, \u001b[1;36m0.3753\u001b[0m, \u001b[1;36m0.4836\u001b[0m, \u001b[1;36m0.3909\u001b[0m, \u001b[1;36m0.4705\u001b[0m,\n",
       "         \u001b[1;36m0.2980\u001b[0m, \u001b[1;36m0.3726\u001b[0m, \u001b[1;36m0.8630\u001b[0m, \u001b[1;36m0.4943\u001b[0m, \u001b[1;36m0.6210\u001b[0m, \u001b[1;36m0.0974\u001b[0m, \u001b[1;36m0.1686\u001b[0m, \u001b[1;36m0.4687\u001b[0m, \u001b[1;36m0.6299\u001b[0m,\n",
       "         \u001b[1;36m0.9537\u001b[0m, \u001b[1;36m0.9456\u001b[0m, \u001b[1;36m0.4413\u001b[0m, \u001b[1;36m0.3724\u001b[0m, \u001b[1;36m0.6058\u001b[0m, \u001b[1;36m0.6643\u001b[0m\u001b[1m]\u001b[0m,\n",
       "        \u001b[1m[\u001b[0m\u001b[1;36m0.0125\u001b[0m, \u001b[1;36m0.6320\u001b[0m, \u001b[1;36m0.9324\u001b[0m, \u001b[1;36m0.8480\u001b[0m, \u001b[1;36m0.3232\u001b[0m, \u001b[1;36m0.8431\u001b[0m, \u001b[1;36m0.4861\u001b[0m, \u001b[1;36m0.5927\u001b[0m, \u001b[1;36m0.1391\u001b[0m,\n",
       "         \u001b[1;36m0.0474\u001b[0m, \u001b[1;36m0.8812\u001b[0m, \u001b[1;36m0.1125\u001b[0m, \u001b[1;36m0.2496\u001b[0m, \u001b[1;36m0.8658\u001b[0m, \u001b[1;36m0.4809\u001b[0m, \u001b[1;36m0.0229\u001b[0m, \u001b[1;36m0.4724\u001b[0m, \u001b[1;36m0.4830\u001b[0m,\n",
       "         \u001b[1;36m0.8300\u001b[0m, \u001b[1;36m0.9488\u001b[0m, \u001b[1;36m0.3790\u001b[0m, \u001b[1;36m0.3031\u001b[0m, \u001b[1;36m0.3192\u001b[0m, \u001b[1;36m0.9411\u001b[0m\u001b[1m]\u001b[0m,\n",
       "        \u001b[1m[\u001b[0m\u001b[1;36m0.7039\u001b[0m, \u001b[1;36m0.0142\u001b[0m, \u001b[1;36m0.6442\u001b[0m, \u001b[1;36m0.0775\u001b[0m, \u001b[1;36m0.9681\u001b[0m, \u001b[1;36m0.1995\u001b[0m, \u001b[1;36m0.2131\u001b[0m, \u001b[1;36m0.2489\u001b[0m, \u001b[1;36m0.8698\u001b[0m,\n",
       "         \u001b[1;36m0.7058\u001b[0m, \u001b[1;36m0.8775\u001b[0m, \u001b[1;36m0.7328\u001b[0m, \u001b[1;36m0.2645\u001b[0m, \u001b[1;36m0.4994\u001b[0m, \u001b[1;36m0.1355\u001b[0m, \u001b[1;36m0.2537\u001b[0m, \u001b[1;36m0.4815\u001b[0m, \u001b[1;36m0.5744\u001b[0m,\n",
       "         \u001b[1;36m0.8962\u001b[0m, \u001b[1;36m0.7026\u001b[0m, \u001b[1;36m0.2919\u001b[0m, \u001b[1;36m0.9637\u001b[0m, \u001b[1;36m0.7873\u001b[0m, \u001b[1;36m0.9279\u001b[0m\u001b[1m]\u001b[0m,\n",
       "        \u001b[1m[\u001b[0m\u001b[1;36m0.9138\u001b[0m, \u001b[1;36m0.2198\u001b[0m, \u001b[1;36m0.8207\u001b[0m, \u001b[1;36m0.9461\u001b[0m, \u001b[1;36m0.0985\u001b[0m, \u001b[1;36m0.0373\u001b[0m, \u001b[1;36m0.5371\u001b[0m, \u001b[1;36m0.5614\u001b[0m, \u001b[1;36m0.7007\u001b[0m,\n",
       "         \u001b[1;36m0.3083\u001b[0m, \u001b[1;36m0.9098\u001b[0m, \u001b[1;36m0.5054\u001b[0m, \u001b[1;36m0.2125\u001b[0m, \u001b[1;36m0.0278\u001b[0m, \u001b[1;36m0.4063\u001b[0m, \u001b[1;36m0.9883\u001b[0m, \u001b[1;36m0.4950\u001b[0m, \u001b[1;36m0.2429\u001b[0m,\n",
       "         \u001b[1;36m0.8464\u001b[0m, \u001b[1;36m0.1389\u001b[0m, \u001b[1;36m0.0064\u001b[0m, \u001b[1;36m0.8452\u001b[0m, \u001b[1;36m0.4633\u001b[0m, \u001b[1;36m0.2089\u001b[0m\u001b[1m]\u001b[0m,\n",
       "        \u001b[1m[\u001b[0m\u001b[1;36m0.1787\u001b[0m, \u001b[1;36m0.1477\u001b[0m, \u001b[1;36m0.4276\u001b[0m, \u001b[1;36m0.4765\u001b[0m, \u001b[1;36m0.2530\u001b[0m, \u001b[1;36m0.1638\u001b[0m, \u001b[1;36m0.4004\u001b[0m, \u001b[1;36m0.3261\u001b[0m, \u001b[1;36m0.2936\u001b[0m,\n",
       "         \u001b[1;36m0.6757\u001b[0m, \u001b[1;36m0.6817\u001b[0m, \u001b[1;36m0.5914\u001b[0m, \u001b[1;36m0.3955\u001b[0m, \u001b[1;36m0.2959\u001b[0m, \u001b[1;36m0.4667\u001b[0m, \u001b[1;36m0.4676\u001b[0m, \u001b[1;36m0.7198\u001b[0m, \u001b[1;36m0.8051\u001b[0m,\n",
       "         \u001b[1;36m0.7775\u001b[0m, \u001b[1;36m0.7573\u001b[0m, \u001b[1;36m0.0690\u001b[0m, \u001b[1;36m0.5316\u001b[0m, \u001b[1;36m0.5430\u001b[0m, \u001b[1;36m0.4055\u001b[0m\u001b[1m]\u001b[0m,\n",
       "        \u001b[1m[\u001b[0m\u001b[1;36m0.8510\u001b[0m, \u001b[1;36m0.3216\u001b[0m, \u001b[1;36m0.0661\u001b[0m, \u001b[1;36m0.0603\u001b[0m, \u001b[1;36m0.6310\u001b[0m, \u001b[1;36m0.3951\u001b[0m, \u001b[1;36m0.0798\u001b[0m, \u001b[1;36m0.8865\u001b[0m, \u001b[1;36m0.5700\u001b[0m,\n",
       "         \u001b[1;36m0.0838\u001b[0m, \u001b[1;36m0.4649\u001b[0m, \u001b[1;36m0.6971\u001b[0m, \u001b[1;36m0.1880\u001b[0m, \u001b[1;36m0.3011\u001b[0m, \u001b[1;36m0.0285\u001b[0m, \u001b[1;36m0.4931\u001b[0m, \u001b[1;36m0.3267\u001b[0m, \u001b[1;36m0.7722\u001b[0m,\n",
       "         \u001b[1;36m0.3185\u001b[0m, \u001b[1;36m0.2419\u001b[0m, \u001b[1;36m0.9308\u001b[0m, \u001b[1;36m0.2136\u001b[0m, \u001b[1;36m0.6691\u001b[0m, \u001b[1;36m0.6990\u001b[0m\u001b[1m]\u001b[0m,\n",
       "        \u001b[1m[\u001b[0m\u001b[1;36m0.4081\u001b[0m, \u001b[1;36m0.7668\u001b[0m, \u001b[1;36m0.7787\u001b[0m, \u001b[1;36m0.3402\u001b[0m, \u001b[1;36m0.6896\u001b[0m, \u001b[1;36m0.1693\u001b[0m, \u001b[1;36m0.0587\u001b[0m, \u001b[1;36m0.0941\u001b[0m, \u001b[1;36m0.4014\u001b[0m,\n",
       "         \u001b[1;36m0.5561\u001b[0m, \u001b[1;36m0.9554\u001b[0m, \u001b[1;36m0.6771\u001b[0m, \u001b[1;36m0.4805\u001b[0m, \u001b[1;36m0.4459\u001b[0m, \u001b[1;36m0.6923\u001b[0m, \u001b[1;36m0.9468\u001b[0m, \u001b[1;36m0.9655\u001b[0m, \u001b[1;36m0.5821\u001b[0m,\n",
       "         \u001b[1;36m0.8108\u001b[0m, \u001b[1;36m0.3350\u001b[0m, \u001b[1;36m0.1399\u001b[0m, \u001b[1;36m0.2873\u001b[0m, \u001b[1;36m0.2047\u001b[0m, \u001b[1;36m0.9658\u001b[0m\u001b[1m]\u001b[0m,\n",
       "        \u001b[1m[\u001b[0m\u001b[1;36m0.2366\u001b[0m, \u001b[1;36m0.1195\u001b[0m, \u001b[1;36m0.8375\u001b[0m, \u001b[1;36m0.7679\u001b[0m, \u001b[1;36m0.5440\u001b[0m, \u001b[1;36m0.1276\u001b[0m, \u001b[1;36m0.4840\u001b[0m, \u001b[1;36m0.0473\u001b[0m, \u001b[1;36m0.9416\u001b[0m,\n",
       "         \u001b[1;36m0.9766\u001b[0m, \u001b[1;36m0.7451\u001b[0m, \u001b[1;36m0.3044\u001b[0m, \u001b[1;36m0.6816\u001b[0m, \u001b[1;36m0.1015\u001b[0m, \u001b[1;36m0.9842\u001b[0m, \u001b[1;36m0.7974\u001b[0m, \u001b[1;36m0.0839\u001b[0m, \u001b[1;36m0.2002\u001b[0m,\n",
       "         \u001b[1;36m0.4660\u001b[0m, \u001b[1;36m0.5835\u001b[0m, \u001b[1;36m0.3173\u001b[0m, \u001b[1;36m0.8702\u001b[0m, \u001b[1;36m0.5265\u001b[0m, \u001b[1;36m0.2029\u001b[0m\u001b[1m]\u001b[0m,\n",
       "        \u001b[1m[\u001b[0m\u001b[1;36m0.7275\u001b[0m, \u001b[1;36m0.9857\u001b[0m, \u001b[1;36m0.0118\u001b[0m, \u001b[1;36m0.3275\u001b[0m, \u001b[1;36m0.0589\u001b[0m, \u001b[1;36m0.5126\u001b[0m, \u001b[1;36m0.5592\u001b[0m, \u001b[1;36m0.6488\u001b[0m, \u001b[1;36m0.7902\u001b[0m,\n",
       "         \u001b[1;36m0.4774\u001b[0m, \u001b[1;36m0.4880\u001b[0m, \u001b[1;36m0.7314\u001b[0m, \u001b[1;36m0.6530\u001b[0m, \u001b[1;36m0.8635\u001b[0m, \u001b[1;36m0.7472\u001b[0m, \u001b[1;36m0.3331\u001b[0m, \u001b[1;36m0.0993\u001b[0m, \u001b[1;36m0.4636\u001b[0m,\n",
       "         \u001b[1;36m0.2288\u001b[0m, \u001b[1;36m0.9994\u001b[0m, \u001b[1;36m0.5288\u001b[0m, \u001b[1;36m0.3932\u001b[0m, \u001b[1;36m0.0774\u001b[0m, \u001b[1;36m0.8933\u001b[0m\u001b[1m]\u001b[0m,\n",
       "        \u001b[1m[\u001b[0m\u001b[1;36m0.5079\u001b[0m, \u001b[1;36m0.7633\u001b[0m, \u001b[1;36m0.1753\u001b[0m, \u001b[1;36m0.4448\u001b[0m, \u001b[1;36m0.2593\u001b[0m, \u001b[1;36m0.3004\u001b[0m, \u001b[1;36m0.8854\u001b[0m, \u001b[1;36m0.2029\u001b[0m, \u001b[1;36m0.7240\u001b[0m,\n",
       "         \u001b[1;36m0.8772\u001b[0m, \u001b[1;36m0.5877\u001b[0m, \u001b[1;36m0.7767\u001b[0m, \u001b[1;36m0.6423\u001b[0m, \u001b[1;36m0.2119\u001b[0m, \u001b[1;36m0.9497\u001b[0m, \u001b[1;36m0.3881\u001b[0m, \u001b[1;36m0.0031\u001b[0m, \u001b[1;36m0.5632\u001b[0m,\n",
       "         \u001b[1;36m0.2758\u001b[0m, \u001b[1;36m0.0044\u001b[0m, \u001b[1;36m0.2446\u001b[0m, \u001b[1;36m0.1874\u001b[0m, \u001b[1;36m0.8278\u001b[0m, \u001b[1;36m0.6857\u001b[0m\u001b[1m]\u001b[0m,\n",
       "        \u001b[1m[\u001b[0m\u001b[1;36m0.9038\u001b[0m, \u001b[1;36m0.0716\u001b[0m, \u001b[1;36m0.8883\u001b[0m, \u001b[1;36m0.7081\u001b[0m, \u001b[1;36m0.3212\u001b[0m, \u001b[1;36m0.8256\u001b[0m, \u001b[1;36m0.4879\u001b[0m, \u001b[1;36m0.6371\u001b[0m, \u001b[1;36m0.7438\u001b[0m,\n",
       "         \u001b[1;36m0.1369\u001b[0m, \u001b[1;36m0.3399\u001b[0m, \u001b[1;36m0.8237\u001b[0m, \u001b[1;36m0.8692\u001b[0m, \u001b[1;36m0.3985\u001b[0m, \u001b[1;36m0.7850\u001b[0m, \u001b[1;36m0.8406\u001b[0m, \u001b[1;36m0.8894\u001b[0m, \u001b[1;36m0.4735\u001b[0m,\n",
       "         \u001b[1;36m0.8656\u001b[0m, \u001b[1;36m0.4068\u001b[0m, \u001b[1;36m0.7159\u001b[0m, \u001b[1;36m0.1402\u001b[0m, \u001b[1;36m0.2501\u001b[0m, \u001b[1;36m0.3329\u001b[0m\u001b[1m]\u001b[0m,\n",
       "        \u001b[1m[\u001b[0m\u001b[1;36m0.3607\u001b[0m, \u001b[1;36m0.0606\u001b[0m, \u001b[1;36m0.2636\u001b[0m, \u001b[1;36m0.0187\u001b[0m, \u001b[1;36m0.8026\u001b[0m, \u001b[1;36m0.2264\u001b[0m, \u001b[1;36m0.4512\u001b[0m, \u001b[1;36m0.0349\u001b[0m, \u001b[1;36m0.3901\u001b[0m,\n",
       "         \u001b[1;36m0.2393\u001b[0m, \u001b[1;36m0.3439\u001b[0m, \u001b[1;36m0.7951\u001b[0m, \u001b[1;36m0.5566\u001b[0m, \u001b[1;36m0.4257\u001b[0m, \u001b[1;36m0.5662\u001b[0m, \u001b[1;36m0.4564\u001b[0m, \u001b[1;36m0.6383\u001b[0m, \u001b[1;36m0.2197\u001b[0m,\n",
       "         \u001b[1;36m0.0145\u001b[0m, \u001b[1;36m0.2134\u001b[0m, \u001b[1;36m0.9869\u001b[0m, \u001b[1;36m0.8251\u001b[0m, \u001b[1;36m0.0700\u001b[0m, \u001b[1;36m0.0705\u001b[0m\u001b[1m]\u001b[0m,\n",
       "        \u001b[1m[\u001b[0m\u001b[1;36m0.3008\u001b[0m, \u001b[1;36m0.1006\u001b[0m, \u001b[1;36m0.6156\u001b[0m, \u001b[1;36m0.4474\u001b[0m, \u001b[1;36m0.2631\u001b[0m, \u001b[1;36m0.7130\u001b[0m, \u001b[1;36m0.5051\u001b[0m, \u001b[1;36m0.8267\u001b[0m, \u001b[1;36m0.4238\u001b[0m,\n",
       "         \u001b[1;36m0.6535\u001b[0m, \u001b[1;36m0.6982\u001b[0m, \u001b[1;36m0.1762\u001b[0m, \u001b[1;36m0.8963\u001b[0m, \u001b[1;36m0.6848\u001b[0m, \u001b[1;36m0.9918\u001b[0m, \u001b[1;36m0.5252\u001b[0m, \u001b[1;36m0.0097\u001b[0m, \u001b[1;36m0.8595\u001b[0m,\n",
       "         \u001b[1;36m0.9184\u001b[0m, \u001b[1;36m0.6012\u001b[0m, \u001b[1;36m0.2057\u001b[0m, \u001b[1;36m0.0190\u001b[0m, \u001b[1;36m0.7669\u001b[0m, \u001b[1;36m0.8043\u001b[0m\u001b[1m]\u001b[0m,\n",
       "        \u001b[1m[\u001b[0m\u001b[1;36m0.2415\u001b[0m, \u001b[1;36m0.6756\u001b[0m, \u001b[1;36m0.5670\u001b[0m, \u001b[1;36m0.3633\u001b[0m, \u001b[1;36m0.9305\u001b[0m, \u001b[1;36m0.1351\u001b[0m, \u001b[1;36m0.9881\u001b[0m, \u001b[1;36m0.8859\u001b[0m, \u001b[1;36m0.6021\u001b[0m,\n",
       "         \u001b[1;36m0.9049\u001b[0m, \u001b[1;36m0.4576\u001b[0m, \u001b[1;36m0.6921\u001b[0m, \u001b[1;36m0.9828\u001b[0m, \u001b[1;36m0.1330\u001b[0m, \u001b[1;36m0.9648\u001b[0m, \u001b[1;36m0.0944\u001b[0m, \u001b[1;36m0.6838\u001b[0m, \u001b[1;36m0.7029\u001b[0m,\n",
       "         \u001b[1;36m0.2011\u001b[0m, \u001b[1;36m0.1805\u001b[0m, \u001b[1;36m0.6594\u001b[0m, \u001b[1;36m0.9635\u001b[0m, \u001b[1;36m0.9402\u001b[0m, \u001b[1;36m0.0698\u001b[0m\u001b[1m]\u001b[0m,\n",
       "        \u001b[1m[\u001b[0m\u001b[1;36m0.1250\u001b[0m, \u001b[1;36m0.2533\u001b[0m, \u001b[1;36m0.8920\u001b[0m, \u001b[1;36m0.6441\u001b[0m, \u001b[1;36m0.8941\u001b[0m, \u001b[1;36m0.9447\u001b[0m, \u001b[1;36m0.0276\u001b[0m, \u001b[1;36m0.9619\u001b[0m, \u001b[1;36m0.7331\u001b[0m,\n",
       "         \u001b[1;36m0.4102\u001b[0m, \u001b[1;36m0.3067\u001b[0m, \u001b[1;36m0.1519\u001b[0m, \u001b[1;36m0.1545\u001b[0m, \u001b[1;36m0.3365\u001b[0m, \u001b[1;36m0.2861\u001b[0m, \u001b[1;36m0.0113\u001b[0m, \u001b[1;36m0.4404\u001b[0m, \u001b[1;36m0.7962\u001b[0m,\n",
       "         \u001b[1;36m0.1725\u001b[0m, \u001b[1;36m0.6810\u001b[0m, \u001b[1;36m0.3242\u001b[0m, \u001b[1;36m0.8868\u001b[0m, \u001b[1;36m0.2839\u001b[0m, \u001b[1;36m0.9124\u001b[0m\u001b[1m]\u001b[0m\u001b[1m]\u001b[0m\u001b[1m)\u001b[0m\n"
      ]
     },
     "metadata": {},
     "output_type": "display_data"
    },
    {
     "data": {
      "text/html": [
       "<pre style=\"white-space:pre;overflow-x:auto;line-height:normal;font-family:Menlo,'DejaVu Sans Mono',consolas,'Courier New',monospace\">示例输入的形状为：\n",
       "</pre>\n"
      ],
      "text/plain": [
       "示例输入的形状为：\n"
      ]
     },
     "metadata": {},
     "output_type": "display_data"
    },
    {
     "data": {
      "text/html": [
       "<pre style=\"white-space:pre;overflow-x:auto;line-height:normal;font-family:Menlo,'DejaVu Sans Mono',consolas,'Courier New',monospace\"><span style=\"color: #800080; text-decoration-color: #800080; font-weight: bold\">torch.Size</span><span style=\"font-weight: bold\">([</span><span style=\"color: #008080; text-decoration-color: #008080; font-weight: bold\">16</span>, <span style=\"color: #008080; text-decoration-color: #008080; font-weight: bold\">24</span><span style=\"font-weight: bold\">])</span>\n",
       "</pre>\n"
      ],
      "text/plain": [
       "\u001b[1;35mtorch.Size\u001b[0m\u001b[1m(\u001b[0m\u001b[1m[\u001b[0m\u001b[1;36m16\u001b[0m, \u001b[1;36m24\u001b[0m\u001b[1m]\u001b[0m\u001b[1m)\u001b[0m\n"
      ]
     },
     "metadata": {},
     "output_type": "display_data"
    },
    {
     "data": {
      "text/html": [
       "<pre style=\"white-space:pre;overflow-x:auto;line-height:normal;font-family:Menlo,'DejaVu Sans Mono',consolas,'Courier New',monospace\">示例输出为：\n",
       "</pre>\n"
      ],
      "text/plain": [
       "示例输出为：\n"
      ]
     },
     "metadata": {},
     "output_type": "display_data"
    },
    {
     "data": {
      "text/html": [
       "<pre style=\"white-space:pre;overflow-x:auto;line-height:normal;font-family:Menlo,'DejaVu Sans Mono',consolas,'Courier New',monospace\"><span style=\"color: #800080; text-decoration-color: #800080; font-weight: bold\">tensor</span><span style=\"font-weight: bold\">([[</span> <span style=\"color: #008080; text-decoration-color: #008080; font-weight: bold\">4.1522e-01</span>, <span style=\"color: #008080; text-decoration-color: #008080; font-weight: bold\">-3.2700e-01</span>,  <span style=\"color: #008080; text-decoration-color: #008080; font-weight: bold\">9.1172e-03</span>, <span style=\"color: #008080; text-decoration-color: #008080; font-weight: bold\">-6.1888e-02</span>, <span style=\"color: #008080; text-decoration-color: #008080; font-weight: bold\">-1.8494e-01</span>,\n",
       "         <span style=\"color: #008080; text-decoration-color: #008080; font-weight: bold\">-2.9054e-01</span>, <span style=\"color: #008080; text-decoration-color: #008080; font-weight: bold\">-1.9343e-01</span>,  <span style=\"color: #008080; text-decoration-color: #008080; font-weight: bold\">5.6759e-01</span>, <span style=\"color: #008080; text-decoration-color: #008080; font-weight: bold\">-3.9938e-01</span>, <span style=\"color: #008080; text-decoration-color: #008080; font-weight: bold\">-1.2904e-01</span><span style=\"font-weight: bold\">]</span>,\n",
       "        <span style=\"font-weight: bold\">[</span> <span style=\"color: #008080; text-decoration-color: #008080; font-weight: bold\">4.4440e-01</span>, <span style=\"color: #008080; text-decoration-color: #008080; font-weight: bold\">-1.5679e-01</span>,  <span style=\"color: #008080; text-decoration-color: #008080; font-weight: bold\">1.1616e-02</span>,  <span style=\"color: #008080; text-decoration-color: #008080; font-weight: bold\">2.9539e-02</span>, <span style=\"color: #008080; text-decoration-color: #008080; font-weight: bold\">-2.9386e-01</span>,\n",
       "         <span style=\"color: #008080; text-decoration-color: #008080; font-weight: bold\">-2.8688e-01</span>, <span style=\"color: #008080; text-decoration-color: #008080; font-weight: bold\">-1.5933e-01</span>,  <span style=\"color: #008080; text-decoration-color: #008080; font-weight: bold\">7.0789e-01</span>, <span style=\"color: #008080; text-decoration-color: #008080; font-weight: bold\">-4.6069e-01</span>, <span style=\"color: #008080; text-decoration-color: #008080; font-weight: bold\">-8.4947e-02</span><span style=\"font-weight: bold\">]</span>,\n",
       "        <span style=\"font-weight: bold\">[</span> <span style=\"color: #008080; text-decoration-color: #008080; font-weight: bold\">7.5442e-01</span>,  <span style=\"color: #008080; text-decoration-color: #008080; font-weight: bold\">1.8296e-01</span>, <span style=\"color: #008080; text-decoration-color: #008080; font-weight: bold\">-3.3333e-01</span>,  <span style=\"color: #008080; text-decoration-color: #008080; font-weight: bold\">7.3114e-04</span>, <span style=\"color: #008080; text-decoration-color: #008080; font-weight: bold\">-3.2968e-01</span>,\n",
       "         <span style=\"color: #008080; text-decoration-color: #008080; font-weight: bold\">-6.7464e-01</span>, <span style=\"color: #008080; text-decoration-color: #008080; font-weight: bold\">-4.0478e-01</span>,  <span style=\"color: #008080; text-decoration-color: #008080; font-weight: bold\">2.4784e-01</span>, <span style=\"color: #008080; text-decoration-color: #008080; font-weight: bold\">-5.8322e-01</span>,  <span style=\"color: #008080; text-decoration-color: #008080; font-weight: bold\">9.2814e-02</span><span style=\"font-weight: bold\">]</span>,\n",
       "        <span style=\"font-weight: bold\">[</span> <span style=\"color: #008080; text-decoration-color: #008080; font-weight: bold\">8.3028e-01</span>,  <span style=\"color: #008080; text-decoration-color: #008080; font-weight: bold\">1.6494e-01</span>, <span style=\"color: #008080; text-decoration-color: #008080; font-weight: bold\">-3.9289e-01</span>, <span style=\"color: #008080; text-decoration-color: #008080; font-weight: bold\">-2.4119e-02</span>, <span style=\"color: #008080; text-decoration-color: #008080; font-weight: bold\">-4.8418e-01</span>,\n",
       "         <span style=\"color: #008080; text-decoration-color: #008080; font-weight: bold\">-2.3117e-01</span>, <span style=\"color: #008080; text-decoration-color: #008080; font-weight: bold\">-4.0815e-02</span>,  <span style=\"color: #008080; text-decoration-color: #008080; font-weight: bold\">6.2574e-01</span>, <span style=\"color: #008080; text-decoration-color: #008080; font-weight: bold\">-2.5519e-01</span>, <span style=\"color: #008080; text-decoration-color: #008080; font-weight: bold\">-5.3377e-02</span><span style=\"font-weight: bold\">]</span>,\n",
       "        <span style=\"font-weight: bold\">[</span> <span style=\"color: #008080; text-decoration-color: #008080; font-weight: bold\">4.2770e-01</span>, <span style=\"color: #008080; text-decoration-color: #008080; font-weight: bold\">-2.4377e-03</span>, <span style=\"color: #008080; text-decoration-color: #008080; font-weight: bold\">-3.9112e-01</span>, <span style=\"color: #008080; text-decoration-color: #008080; font-weight: bold\">-1.3542e-01</span>, <span style=\"color: #008080; text-decoration-color: #008080; font-weight: bold\">-3.8081e-01</span>,\n",
       "         <span style=\"color: #008080; text-decoration-color: #008080; font-weight: bold\">-3.8285e-01</span>, <span style=\"color: #008080; text-decoration-color: #008080; font-weight: bold\">-4.7448e-01</span>,  <span style=\"color: #008080; text-decoration-color: #008080; font-weight: bold\">5.8784e-01</span>, <span style=\"color: #008080; text-decoration-color: #008080; font-weight: bold\">-3.0406e-01</span>, <span style=\"color: #008080; text-decoration-color: #008080; font-weight: bold\">-1.3579e-02</span><span style=\"font-weight: bold\">]</span>,\n",
       "        <span style=\"font-weight: bold\">[</span> <span style=\"color: #008080; text-decoration-color: #008080; font-weight: bold\">7.6887e-01</span>,  <span style=\"color: #008080; text-decoration-color: #008080; font-weight: bold\">7.9071e-02</span>, <span style=\"color: #008080; text-decoration-color: #008080; font-weight: bold\">-3.8369e-01</span>,  <span style=\"color: #008080; text-decoration-color: #008080; font-weight: bold\">1.0205e-01</span>, <span style=\"color: #008080; text-decoration-color: #008080; font-weight: bold\">-1.5357e-01</span>,\n",
       "         <span style=\"color: #008080; text-decoration-color: #008080; font-weight: bold\">-3.0189e-01</span>, <span style=\"color: #008080; text-decoration-color: #008080; font-weight: bold\">-3.2993e-01</span>,  <span style=\"color: #008080; text-decoration-color: #008080; font-weight: bold\">3.7510e-01</span>, <span style=\"color: #008080; text-decoration-color: #008080; font-weight: bold\">-3.1675e-01</span>, <span style=\"color: #008080; text-decoration-color: #008080; font-weight: bold\">-1.0732e-01</span><span style=\"font-weight: bold\">]</span>,\n",
       "        <span style=\"font-weight: bold\">[</span> <span style=\"color: #008080; text-decoration-color: #008080; font-weight: bold\">4.3479e-01</span>, <span style=\"color: #008080; text-decoration-color: #008080; font-weight: bold\">-1.2732e-01</span>,  <span style=\"color: #008080; text-decoration-color: #008080; font-weight: bold\">1.1979e-01</span>,  <span style=\"color: #008080; text-decoration-color: #008080; font-weight: bold\">1.2100e-01</span>, <span style=\"color: #008080; text-decoration-color: #008080; font-weight: bold\">-3.0203e-01</span>,\n",
       "         <span style=\"color: #008080; text-decoration-color: #008080; font-weight: bold\">-4.4923e-02</span>,  <span style=\"color: #008080; text-decoration-color: #008080; font-weight: bold\">5.6754e-02</span>,  <span style=\"color: #008080; text-decoration-color: #008080; font-weight: bold\">6.3813e-01</span>, <span style=\"color: #008080; text-decoration-color: #008080; font-weight: bold\">-2.5149e-01</span>,  <span style=\"color: #008080; text-decoration-color: #008080; font-weight: bold\">1.7411e-02</span><span style=\"font-weight: bold\">]</span>,\n",
       "        <span style=\"font-weight: bold\">[</span> <span style=\"color: #008080; text-decoration-color: #008080; font-weight: bold\">5.5578e-01</span>,  <span style=\"color: #008080; text-decoration-color: #008080; font-weight: bold\">2.8458e-02</span>, <span style=\"color: #008080; text-decoration-color: #008080; font-weight: bold\">-1.1646e-01</span>, <span style=\"color: #008080; text-decoration-color: #008080; font-weight: bold\">-1.8116e-02</span>, <span style=\"color: #008080; text-decoration-color: #008080; font-weight: bold\">-4.7574e-01</span>,\n",
       "         <span style=\"color: #008080; text-decoration-color: #008080; font-weight: bold\">-1.9563e-01</span>, <span style=\"color: #008080; text-decoration-color: #008080; font-weight: bold\">-3.2112e-01</span>,  <span style=\"color: #008080; text-decoration-color: #008080; font-weight: bold\">7.5235e-01</span>, <span style=\"color: #008080; text-decoration-color: #008080; font-weight: bold\">-8.7674e-02</span>,  <span style=\"color: #008080; text-decoration-color: #008080; font-weight: bold\">3.6035e-01</span><span style=\"font-weight: bold\">]</span>,\n",
       "        <span style=\"font-weight: bold\">[</span> <span style=\"color: #008080; text-decoration-color: #008080; font-weight: bold\">5.1310e-01</span>,  <span style=\"color: #008080; text-decoration-color: #008080; font-weight: bold\">1.4181e-01</span>, <span style=\"color: #008080; text-decoration-color: #008080; font-weight: bold\">-4.7291e-01</span>, <span style=\"color: #008080; text-decoration-color: #008080; font-weight: bold\">-4.0445e-02</span>, <span style=\"color: #008080; text-decoration-color: #008080; font-weight: bold\">-2.2049e-01</span>,\n",
       "         <span style=\"color: #008080; text-decoration-color: #008080; font-weight: bold\">-2.5418e-01</span>, <span style=\"color: #008080; text-decoration-color: #008080; font-weight: bold\">-4.1853e-01</span>,  <span style=\"color: #008080; text-decoration-color: #008080; font-weight: bold\">7.0641e-01</span>, <span style=\"color: #008080; text-decoration-color: #008080; font-weight: bold\">-1.4084e-01</span>,  <span style=\"color: #008080; text-decoration-color: #008080; font-weight: bold\">7.5134e-02</span><span style=\"font-weight: bold\">]</span>,\n",
       "        <span style=\"font-weight: bold\">[</span> <span style=\"color: #008080; text-decoration-color: #008080; font-weight: bold\">4.6734e-01</span>, <span style=\"color: #008080; text-decoration-color: #008080; font-weight: bold\">-6.2220e-02</span>, <span style=\"color: #008080; text-decoration-color: #008080; font-weight: bold\">-2.0911e-01</span>,  <span style=\"color: #008080; text-decoration-color: #008080; font-weight: bold\">1.8278e-01</span>, <span style=\"color: #008080; text-decoration-color: #008080; font-weight: bold\">-1.1369e-02</span>,\n",
       "         <span style=\"color: #008080; text-decoration-color: #008080; font-weight: bold\">-2.1890e-01</span>, <span style=\"color: #008080; text-decoration-color: #008080; font-weight: bold\">-2.1712e-01</span>,  <span style=\"color: #008080; text-decoration-color: #008080; font-weight: bold\">6.8521e-01</span>, <span style=\"color: #008080; text-decoration-color: #008080; font-weight: bold\">-3.2055e-01</span>,  <span style=\"color: #008080; text-decoration-color: #008080; font-weight: bold\">1.7521e-01</span><span style=\"font-weight: bold\">]</span>,\n",
       "        <span style=\"font-weight: bold\">[</span> <span style=\"color: #008080; text-decoration-color: #008080; font-weight: bold\">3.7750e-01</span>, <span style=\"color: #008080; text-decoration-color: #008080; font-weight: bold\">-1.6350e-01</span>, <span style=\"color: #008080; text-decoration-color: #008080; font-weight: bold\">-1.9854e-01</span>,  <span style=\"color: #008080; text-decoration-color: #008080; font-weight: bold\">2.3672e-01</span>, <span style=\"color: #008080; text-decoration-color: #008080; font-weight: bold\">-6.3100e-02</span>,\n",
       "         <span style=\"color: #008080; text-decoration-color: #008080; font-weight: bold\">-2.1848e-01</span>, <span style=\"color: #008080; text-decoration-color: #008080; font-weight: bold\">-3.1139e-01</span>,  <span style=\"color: #008080; text-decoration-color: #008080; font-weight: bold\">8.8211e-01</span>, <span style=\"color: #008080; text-decoration-color: #008080; font-weight: bold\">-1.0384e-01</span>,  <span style=\"color: #008080; text-decoration-color: #008080; font-weight: bold\">5.2338e-03</span><span style=\"font-weight: bold\">]</span>,\n",
       "        <span style=\"font-weight: bold\">[</span> <span style=\"color: #008080; text-decoration-color: #008080; font-weight: bold\">4.7957e-01</span>, <span style=\"color: #008080; text-decoration-color: #008080; font-weight: bold\">-2.2193e-01</span>, <span style=\"color: #008080; text-decoration-color: #008080; font-weight: bold\">-7.3253e-02</span>, <span style=\"color: #008080; text-decoration-color: #008080; font-weight: bold\">-2.7233e-01</span>, <span style=\"color: #008080; text-decoration-color: #008080; font-weight: bold\">-2.3791e-01</span>,\n",
       "         <span style=\"color: #008080; text-decoration-color: #008080; font-weight: bold\">-2.8745e-01</span>, <span style=\"color: #008080; text-decoration-color: #008080; font-weight: bold\">-3.2755e-01</span>,  <span style=\"color: #008080; text-decoration-color: #008080; font-weight: bold\">7.7636e-01</span>, <span style=\"color: #008080; text-decoration-color: #008080; font-weight: bold\">-2.6881e-01</span>,  <span style=\"color: #008080; text-decoration-color: #008080; font-weight: bold\">1.0174e-01</span><span style=\"font-weight: bold\">]</span>,\n",
       "        <span style=\"font-weight: bold\">[</span> <span style=\"color: #008080; text-decoration-color: #008080; font-weight: bold\">2.9993e-01</span>, <span style=\"color: #008080; text-decoration-color: #008080; font-weight: bold\">-7.1785e-02</span>,  <span style=\"color: #008080; text-decoration-color: #008080; font-weight: bold\">8.6001e-02</span>, <span style=\"color: #008080; text-decoration-color: #008080; font-weight: bold\">-2.6847e-01</span>, <span style=\"color: #008080; text-decoration-color: #008080; font-weight: bold\">-5.0801e-01</span>,\n",
       "         <span style=\"color: #008080; text-decoration-color: #008080; font-weight: bold\">-1.0333e-01</span>, <span style=\"color: #008080; text-decoration-color: #008080; font-weight: bold\">-1.6095e-02</span>,  <span style=\"color: #008080; text-decoration-color: #008080; font-weight: bold\">7.1711e-01</span>, <span style=\"color: #008080; text-decoration-color: #008080; font-weight: bold\">-1.1421e-01</span>,  <span style=\"color: #008080; text-decoration-color: #008080; font-weight: bold\">1.7704e-01</span><span style=\"font-weight: bold\">]</span>,\n",
       "        <span style=\"font-weight: bold\">[</span> <span style=\"color: #008080; text-decoration-color: #008080; font-weight: bold\">8.7247e-01</span>,  <span style=\"color: #008080; text-decoration-color: #008080; font-weight: bold\">2.4618e-01</span>, <span style=\"color: #008080; text-decoration-color: #008080; font-weight: bold\">-5.8469e-01</span>,  <span style=\"color: #008080; text-decoration-color: #008080; font-weight: bold\">1.5451e-01</span>, <span style=\"color: #008080; text-decoration-color: #008080; font-weight: bold\">-6.9370e-03</span>,\n",
       "         <span style=\"color: #008080; text-decoration-color: #008080; font-weight: bold\">-3.7577e-01</span>, <span style=\"color: #008080; text-decoration-color: #008080; font-weight: bold\">-3.7028e-01</span>,  <span style=\"color: #008080; text-decoration-color: #008080; font-weight: bold\">5.0505e-01</span>, <span style=\"color: #008080; text-decoration-color: #008080; font-weight: bold\">-3.5785e-01</span>, <span style=\"color: #008080; text-decoration-color: #008080; font-weight: bold\">-7.1428e-02</span><span style=\"font-weight: bold\">]</span>,\n",
       "        <span style=\"font-weight: bold\">[</span> <span style=\"color: #008080; text-decoration-color: #008080; font-weight: bold\">7.0154e-01</span>, <span style=\"color: #008080; text-decoration-color: #008080; font-weight: bold\">-2.2334e-01</span>, <span style=\"color: #008080; text-decoration-color: #008080; font-weight: bold\">-2.2977e-01</span>,  <span style=\"color: #008080; text-decoration-color: #008080; font-weight: bold\">1.4461e-01</span>, <span style=\"color: #008080; text-decoration-color: #008080; font-weight: bold\">-4.1193e-01</span>,\n",
       "         <span style=\"color: #008080; text-decoration-color: #008080; font-weight: bold\">-3.5081e-01</span>, <span style=\"color: #008080; text-decoration-color: #008080; font-weight: bold\">-3.9965e-01</span>,  <span style=\"color: #008080; text-decoration-color: #008080; font-weight: bold\">9.3359e-01</span>, <span style=\"color: #008080; text-decoration-color: #008080; font-weight: bold\">-2.8495e-01</span>, <span style=\"color: #008080; text-decoration-color: #008080; font-weight: bold\">-2.1805e-01</span><span style=\"font-weight: bold\">]</span>,\n",
       "        <span style=\"font-weight: bold\">[</span> <span style=\"color: #008080; text-decoration-color: #008080; font-weight: bold\">6.6928e-01</span>,  <span style=\"color: #008080; text-decoration-color: #008080; font-weight: bold\">2.3889e-01</span>, <span style=\"color: #008080; text-decoration-color: #008080; font-weight: bold\">-2.0160e-01</span>,  <span style=\"color: #008080; text-decoration-color: #008080; font-weight: bold\">1.0350e-01</span>, <span style=\"color: #008080; text-decoration-color: #008080; font-weight: bold\">-2.1756e-01</span>,\n",
       "         <span style=\"color: #008080; text-decoration-color: #008080; font-weight: bold\">-4.7708e-01</span>, <span style=\"color: #008080; text-decoration-color: #008080; font-weight: bold\">-2.5686e-01</span>,  <span style=\"color: #008080; text-decoration-color: #008080; font-weight: bold\">2.7162e-01</span>, <span style=\"color: #008080; text-decoration-color: #008080; font-weight: bold\">-3.4521e-01</span>, <span style=\"color: #008080; text-decoration-color: #008080; font-weight: bold\">-1.8047e-01</span><span style=\"font-weight: bold\">]]</span>,\n",
       "       <span style=\"color: #808000; text-decoration-color: #808000\">grad_fn</span>=<span style=\"font-weight: bold\">&lt;</span><span style=\"color: #ff00ff; text-decoration-color: #ff00ff; font-weight: bold\">AddmmBackward0</span><span style=\"font-weight: bold\">&gt;)</span>\n",
       "</pre>\n"
      ],
      "text/plain": [
       "\u001b[1;35mtensor\u001b[0m\u001b[1m(\u001b[0m\u001b[1m[\u001b[0m\u001b[1m[\u001b[0m \u001b[1;36m4.1522e-01\u001b[0m, \u001b[1;36m-3.2700e-01\u001b[0m,  \u001b[1;36m9.1172e-03\u001b[0m, \u001b[1;36m-6.1888e-02\u001b[0m, \u001b[1;36m-1.8494e-01\u001b[0m,\n",
       "         \u001b[1;36m-2.9054e-01\u001b[0m, \u001b[1;36m-1.9343e-01\u001b[0m,  \u001b[1;36m5.6759e-01\u001b[0m, \u001b[1;36m-3.9938e-01\u001b[0m, \u001b[1;36m-1.2904e-01\u001b[0m\u001b[1m]\u001b[0m,\n",
       "        \u001b[1m[\u001b[0m \u001b[1;36m4.4440e-01\u001b[0m, \u001b[1;36m-1.5679e-01\u001b[0m,  \u001b[1;36m1.1616e-02\u001b[0m,  \u001b[1;36m2.9539e-02\u001b[0m, \u001b[1;36m-2.9386e-01\u001b[0m,\n",
       "         \u001b[1;36m-2.8688e-01\u001b[0m, \u001b[1;36m-1.5933e-01\u001b[0m,  \u001b[1;36m7.0789e-01\u001b[0m, \u001b[1;36m-4.6069e-01\u001b[0m, \u001b[1;36m-8.4947e-02\u001b[0m\u001b[1m]\u001b[0m,\n",
       "        \u001b[1m[\u001b[0m \u001b[1;36m7.5442e-01\u001b[0m,  \u001b[1;36m1.8296e-01\u001b[0m, \u001b[1;36m-3.3333e-01\u001b[0m,  \u001b[1;36m7.3114e-04\u001b[0m, \u001b[1;36m-3.2968e-01\u001b[0m,\n",
       "         \u001b[1;36m-6.7464e-01\u001b[0m, \u001b[1;36m-4.0478e-01\u001b[0m,  \u001b[1;36m2.4784e-01\u001b[0m, \u001b[1;36m-5.8322e-01\u001b[0m,  \u001b[1;36m9.2814e-02\u001b[0m\u001b[1m]\u001b[0m,\n",
       "        \u001b[1m[\u001b[0m \u001b[1;36m8.3028e-01\u001b[0m,  \u001b[1;36m1.6494e-01\u001b[0m, \u001b[1;36m-3.9289e-01\u001b[0m, \u001b[1;36m-2.4119e-02\u001b[0m, \u001b[1;36m-4.8418e-01\u001b[0m,\n",
       "         \u001b[1;36m-2.3117e-01\u001b[0m, \u001b[1;36m-4.0815e-02\u001b[0m,  \u001b[1;36m6.2574e-01\u001b[0m, \u001b[1;36m-2.5519e-01\u001b[0m, \u001b[1;36m-5.3377e-02\u001b[0m\u001b[1m]\u001b[0m,\n",
       "        \u001b[1m[\u001b[0m \u001b[1;36m4.2770e-01\u001b[0m, \u001b[1;36m-2.4377e-03\u001b[0m, \u001b[1;36m-3.9112e-01\u001b[0m, \u001b[1;36m-1.3542e-01\u001b[0m, \u001b[1;36m-3.8081e-01\u001b[0m,\n",
       "         \u001b[1;36m-3.8285e-01\u001b[0m, \u001b[1;36m-4.7448e-01\u001b[0m,  \u001b[1;36m5.8784e-01\u001b[0m, \u001b[1;36m-3.0406e-01\u001b[0m, \u001b[1;36m-1.3579e-02\u001b[0m\u001b[1m]\u001b[0m,\n",
       "        \u001b[1m[\u001b[0m \u001b[1;36m7.6887e-01\u001b[0m,  \u001b[1;36m7.9071e-02\u001b[0m, \u001b[1;36m-3.8369e-01\u001b[0m,  \u001b[1;36m1.0205e-01\u001b[0m, \u001b[1;36m-1.5357e-01\u001b[0m,\n",
       "         \u001b[1;36m-3.0189e-01\u001b[0m, \u001b[1;36m-3.2993e-01\u001b[0m,  \u001b[1;36m3.7510e-01\u001b[0m, \u001b[1;36m-3.1675e-01\u001b[0m, \u001b[1;36m-1.0732e-01\u001b[0m\u001b[1m]\u001b[0m,\n",
       "        \u001b[1m[\u001b[0m \u001b[1;36m4.3479e-01\u001b[0m, \u001b[1;36m-1.2732e-01\u001b[0m,  \u001b[1;36m1.1979e-01\u001b[0m,  \u001b[1;36m1.2100e-01\u001b[0m, \u001b[1;36m-3.0203e-01\u001b[0m,\n",
       "         \u001b[1;36m-4.4923e-02\u001b[0m,  \u001b[1;36m5.6754e-02\u001b[0m,  \u001b[1;36m6.3813e-01\u001b[0m, \u001b[1;36m-2.5149e-01\u001b[0m,  \u001b[1;36m1.7411e-02\u001b[0m\u001b[1m]\u001b[0m,\n",
       "        \u001b[1m[\u001b[0m \u001b[1;36m5.5578e-01\u001b[0m,  \u001b[1;36m2.8458e-02\u001b[0m, \u001b[1;36m-1.1646e-01\u001b[0m, \u001b[1;36m-1.8116e-02\u001b[0m, \u001b[1;36m-4.7574e-01\u001b[0m,\n",
       "         \u001b[1;36m-1.9563e-01\u001b[0m, \u001b[1;36m-3.2112e-01\u001b[0m,  \u001b[1;36m7.5235e-01\u001b[0m, \u001b[1;36m-8.7674e-02\u001b[0m,  \u001b[1;36m3.6035e-01\u001b[0m\u001b[1m]\u001b[0m,\n",
       "        \u001b[1m[\u001b[0m \u001b[1;36m5.1310e-01\u001b[0m,  \u001b[1;36m1.4181e-01\u001b[0m, \u001b[1;36m-4.7291e-01\u001b[0m, \u001b[1;36m-4.0445e-02\u001b[0m, \u001b[1;36m-2.2049e-01\u001b[0m,\n",
       "         \u001b[1;36m-2.5418e-01\u001b[0m, \u001b[1;36m-4.1853e-01\u001b[0m,  \u001b[1;36m7.0641e-01\u001b[0m, \u001b[1;36m-1.4084e-01\u001b[0m,  \u001b[1;36m7.5134e-02\u001b[0m\u001b[1m]\u001b[0m,\n",
       "        \u001b[1m[\u001b[0m \u001b[1;36m4.6734e-01\u001b[0m, \u001b[1;36m-6.2220e-02\u001b[0m, \u001b[1;36m-2.0911e-01\u001b[0m,  \u001b[1;36m1.8278e-01\u001b[0m, \u001b[1;36m-1.1369e-02\u001b[0m,\n",
       "         \u001b[1;36m-2.1890e-01\u001b[0m, \u001b[1;36m-2.1712e-01\u001b[0m,  \u001b[1;36m6.8521e-01\u001b[0m, \u001b[1;36m-3.2055e-01\u001b[0m,  \u001b[1;36m1.7521e-01\u001b[0m\u001b[1m]\u001b[0m,\n",
       "        \u001b[1m[\u001b[0m \u001b[1;36m3.7750e-01\u001b[0m, \u001b[1;36m-1.6350e-01\u001b[0m, \u001b[1;36m-1.9854e-01\u001b[0m,  \u001b[1;36m2.3672e-01\u001b[0m, \u001b[1;36m-6.3100e-02\u001b[0m,\n",
       "         \u001b[1;36m-2.1848e-01\u001b[0m, \u001b[1;36m-3.1139e-01\u001b[0m,  \u001b[1;36m8.8211e-01\u001b[0m, \u001b[1;36m-1.0384e-01\u001b[0m,  \u001b[1;36m5.2338e-03\u001b[0m\u001b[1m]\u001b[0m,\n",
       "        \u001b[1m[\u001b[0m \u001b[1;36m4.7957e-01\u001b[0m, \u001b[1;36m-2.2193e-01\u001b[0m, \u001b[1;36m-7.3253e-02\u001b[0m, \u001b[1;36m-2.7233e-01\u001b[0m, \u001b[1;36m-2.3791e-01\u001b[0m,\n",
       "         \u001b[1;36m-2.8745e-01\u001b[0m, \u001b[1;36m-3.2755e-01\u001b[0m,  \u001b[1;36m7.7636e-01\u001b[0m, \u001b[1;36m-2.6881e-01\u001b[0m,  \u001b[1;36m1.0174e-01\u001b[0m\u001b[1m]\u001b[0m,\n",
       "        \u001b[1m[\u001b[0m \u001b[1;36m2.9993e-01\u001b[0m, \u001b[1;36m-7.1785e-02\u001b[0m,  \u001b[1;36m8.6001e-02\u001b[0m, \u001b[1;36m-2.6847e-01\u001b[0m, \u001b[1;36m-5.0801e-01\u001b[0m,\n",
       "         \u001b[1;36m-1.0333e-01\u001b[0m, \u001b[1;36m-1.6095e-02\u001b[0m,  \u001b[1;36m7.1711e-01\u001b[0m, \u001b[1;36m-1.1421e-01\u001b[0m,  \u001b[1;36m1.7704e-01\u001b[0m\u001b[1m]\u001b[0m,\n",
       "        \u001b[1m[\u001b[0m \u001b[1;36m8.7247e-01\u001b[0m,  \u001b[1;36m2.4618e-01\u001b[0m, \u001b[1;36m-5.8469e-01\u001b[0m,  \u001b[1;36m1.5451e-01\u001b[0m, \u001b[1;36m-6.9370e-03\u001b[0m,\n",
       "         \u001b[1;36m-3.7577e-01\u001b[0m, \u001b[1;36m-3.7028e-01\u001b[0m,  \u001b[1;36m5.0505e-01\u001b[0m, \u001b[1;36m-3.5785e-01\u001b[0m, \u001b[1;36m-7.1428e-02\u001b[0m\u001b[1m]\u001b[0m,\n",
       "        \u001b[1m[\u001b[0m \u001b[1;36m7.0154e-01\u001b[0m, \u001b[1;36m-2.2334e-01\u001b[0m, \u001b[1;36m-2.2977e-01\u001b[0m,  \u001b[1;36m1.4461e-01\u001b[0m, \u001b[1;36m-4.1193e-01\u001b[0m,\n",
       "         \u001b[1;36m-3.5081e-01\u001b[0m, \u001b[1;36m-3.9965e-01\u001b[0m,  \u001b[1;36m9.3359e-01\u001b[0m, \u001b[1;36m-2.8495e-01\u001b[0m, \u001b[1;36m-2.1805e-01\u001b[0m\u001b[1m]\u001b[0m,\n",
       "        \u001b[1m[\u001b[0m \u001b[1;36m6.6928e-01\u001b[0m,  \u001b[1;36m2.3889e-01\u001b[0m, \u001b[1;36m-2.0160e-01\u001b[0m,  \u001b[1;36m1.0350e-01\u001b[0m, \u001b[1;36m-2.1756e-01\u001b[0m,\n",
       "         \u001b[1;36m-4.7708e-01\u001b[0m, \u001b[1;36m-2.5686e-01\u001b[0m,  \u001b[1;36m2.7162e-01\u001b[0m, \u001b[1;36m-3.4521e-01\u001b[0m, \u001b[1;36m-1.8047e-01\u001b[0m\u001b[1m]\u001b[0m\u001b[1m]\u001b[0m,\n",
       "       \u001b[33mgrad_fn\u001b[0m=\u001b[1m<\u001b[0m\u001b[1;95mAddmmBackward0\u001b[0m\u001b[1m>\u001b[0m\u001b[1m)\u001b[0m\n"
      ]
     },
     "metadata": {},
     "output_type": "display_data"
    },
    {
     "data": {
      "text/html": [
       "<pre style=\"white-space:pre;overflow-x:auto;line-height:normal;font-family:Menlo,'DejaVu Sans Mono',consolas,'Courier New',monospace\">示例输出的形状为：\n",
       "</pre>\n"
      ],
      "text/plain": [
       "示例输出的形状为：\n"
      ]
     },
     "metadata": {},
     "output_type": "display_data"
    },
    {
     "data": {
      "text/html": [
       "<pre style=\"white-space:pre;overflow-x:auto;line-height:normal;font-family:Menlo,'DejaVu Sans Mono',consolas,'Courier New',monospace\"><span style=\"color: #800080; text-decoration-color: #800080; font-weight: bold\">torch.Size</span><span style=\"font-weight: bold\">([</span><span style=\"color: #008080; text-decoration-color: #008080; font-weight: bold\">16</span>, <span style=\"color: #008080; text-decoration-color: #008080; font-weight: bold\">10</span><span style=\"font-weight: bold\">])</span>\n",
       "</pre>\n"
      ],
      "text/plain": [
       "\u001b[1;35mtorch.Size\u001b[0m\u001b[1m(\u001b[0m\u001b[1m[\u001b[0m\u001b[1;36m16\u001b[0m, \u001b[1;36m10\u001b[0m\u001b[1m]\u001b[0m\u001b[1m)\u001b[0m\n"
      ]
     },
     "metadata": {},
     "output_type": "display_data"
    }
   ],
   "source": [
    "demo_model = nn.Linear(24, 10) # 全连接层，形状变化设定为24->10\n",
    "\n",
    "demo_input = torch.rand(16, 24) # 16为批大小，24为输入长度，与全连接层所对应\n",
    "\n",
    "print(\"示例输入为：\")\n",
    "print(demo_input)\n",
    "print(\"示例输入的形状为：\")\n",
    "print(demo_input.shape)\n",
    "\n",
    "demo_output = demo_model(demo_input) # 经过全连接层后，形状会为[16, 10]\n",
    "\n",
    "print(\"示例输出为：\")\n",
    "print(demo_output)\n",
    "print(\"示例输出的形状为：\")\n",
    "print(demo_output.shape)"
   ]
  },
  {
   "cell_type": "markdown",
   "metadata": {},
   "source": [
    "### 卷积操作\n",
    "\n",
    "卷积也是PyTorch中常见的操作：将上一层的图像经过卷积（滤波）后得到这一层的图像。负责卷积操作的模块为`torch.nn.Conv1d`（一维卷积），`torch.nn.Conv2d`（二维卷积）和`torch.nn.Conv3d`（三维卷积）。每层接收比自己要卷积的维度多两维的张量（多出来的两个维度分别为批大小`B`和通道数`C`）。不同于全连接层的是，卷积第二维（通道维度）的大小变化由自己指定，后面维度的大小变化由所设定的卷积核、边界大小、步长等参数决定。"
   ]
  },
  {
   "cell_type": "code",
   "execution_count": 8,
   "metadata": {},
   "outputs": [
    {
     "data": {
      "text/html": [
       "<pre style=\"white-space:pre;overflow-x:auto;line-height:normal;font-family:Menlo,'DejaVu Sans Mono',consolas,'Courier New',monospace\">示例输入的形状为：\n",
       "</pre>\n"
      ],
      "text/plain": [
       "示例输入的形状为：\n"
      ]
     },
     "metadata": {},
     "output_type": "display_data"
    },
    {
     "data": {
      "text/html": [
       "<pre style=\"white-space:pre;overflow-x:auto;line-height:normal;font-family:Menlo,'DejaVu Sans Mono',consolas,'Courier New',monospace\"><span style=\"color: #800080; text-decoration-color: #800080; font-weight: bold\">torch.Size</span><span style=\"font-weight: bold\">([</span><span style=\"color: #008080; text-decoration-color: #008080; font-weight: bold\">8</span>, <span style=\"color: #008080; text-decoration-color: #008080; font-weight: bold\">2</span>, <span style=\"color: #008080; text-decoration-color: #008080; font-weight: bold\">32</span>, <span style=\"color: #008080; text-decoration-color: #008080; font-weight: bold\">32</span><span style=\"font-weight: bold\">])</span>\n",
       "</pre>\n"
      ],
      "text/plain": [
       "\u001b[1;35mtorch.Size\u001b[0m\u001b[1m(\u001b[0m\u001b[1m[\u001b[0m\u001b[1;36m8\u001b[0m, \u001b[1;36m2\u001b[0m, \u001b[1;36m32\u001b[0m, \u001b[1;36m32\u001b[0m\u001b[1m]\u001b[0m\u001b[1m)\u001b[0m\n"
      ]
     },
     "metadata": {},
     "output_type": "display_data"
    },
    {
     "data": {
      "text/html": [
       "<pre style=\"white-space:pre;overflow-x:auto;line-height:normal;font-family:Menlo,'DejaVu Sans Mono',consolas,'Courier New',monospace\">示例输出的形状为：\n",
       "</pre>\n"
      ],
      "text/plain": [
       "示例输出的形状为：\n"
      ]
     },
     "metadata": {},
     "output_type": "display_data"
    },
    {
     "data": {
      "text/html": [
       "<pre style=\"white-space:pre;overflow-x:auto;line-height:normal;font-family:Menlo,'DejaVu Sans Mono',consolas,'Courier New',monospace\"><span style=\"color: #800080; text-decoration-color: #800080; font-weight: bold\">torch.Size</span><span style=\"font-weight: bold\">([</span><span style=\"color: #008080; text-decoration-color: #008080; font-weight: bold\">8</span>, <span style=\"color: #008080; text-decoration-color: #008080; font-weight: bold\">8</span>, <span style=\"color: #008080; text-decoration-color: #008080; font-weight: bold\">16</span>, <span style=\"color: #008080; text-decoration-color: #008080; font-weight: bold\">16</span><span style=\"font-weight: bold\">])</span>\n",
       "</pre>\n"
      ],
      "text/plain": [
       "\u001b[1;35mtorch.Size\u001b[0m\u001b[1m(\u001b[0m\u001b[1m[\u001b[0m\u001b[1;36m8\u001b[0m, \u001b[1;36m8\u001b[0m, \u001b[1;36m16\u001b[0m, \u001b[1;36m16\u001b[0m\u001b[1m]\u001b[0m\u001b[1m)\u001b[0m\n"
      ]
     },
     "metadata": {},
     "output_type": "display_data"
    }
   ],
   "source": [
    "demo_model = nn.Conv2d(2, 8, kernel_size = 3, stride = 2, padding = 1)\n",
    "# 卷积核为3x3，边界大小为1，步长为2，通道数由2变为64，因此图像大小会由[B, 2, H, W]变为[B, 8, H/2, W/2]\n",
    "\n",
    "demo_input = torch.rand(8, 2, 32, 32) # 批大小为8，宽和高都为32，形状为[B = 8, 2, 32, 32]\n",
    "\n",
    "print(\"示例输入的形状为：\")\n",
    "print(demo_input.shape)\n",
    "\n",
    "demo_output = demo_model(demo_input) # 经过全连接层后，形状会为[B = 8, 8, 16, 16]\n",
    "\n",
    "print(\"示例输出的形状为：\")\n",
    "print(demo_output.shape)"
   ]
  },
  {
   "cell_type": "markdown",
   "metadata": {},
   "source": [
    "### 激活函数\n",
    "\n",
    "激活函数用于过滤信息，常见的激活函数有ReLU、Sigmoid等。PyTorch中定义了多种多样的激活函数，可以直接使用："
   ]
  },
  {
   "cell_type": "code",
   "execution_count": 9,
   "metadata": {},
   "outputs": [
    {
     "data": {
      "text/html": [
       "<pre style=\"white-space:pre;overflow-x:auto;line-height:normal;font-family:Menlo,'DejaVu Sans Mono',consolas,'Courier New',monospace\">示例输入为：\n",
       "</pre>\n"
      ],
      "text/plain": [
       "示例输入为：\n"
      ]
     },
     "metadata": {},
     "output_type": "display_data"
    },
    {
     "data": {
      "text/html": [
       "<pre style=\"white-space:pre;overflow-x:auto;line-height:normal;font-family:Menlo,'DejaVu Sans Mono',consolas,'Courier New',monospace\"><span style=\"color: #800080; text-decoration-color: #800080; font-weight: bold\">tensor</span><span style=\"font-weight: bold\">([</span> <span style=\"color: #008080; text-decoration-color: #008080; font-weight: bold\">0.5945</span>,  <span style=\"color: #008080; text-decoration-color: #008080; font-weight: bold\">0.5006</span>, <span style=\"color: #008080; text-decoration-color: #008080; font-weight: bold\">-0.9155</span>,  <span style=\"color: #008080; text-decoration-color: #008080; font-weight: bold\">0.0270</span>,  <span style=\"color: #008080; text-decoration-color: #008080; font-weight: bold\">0.6134</span>, <span style=\"color: #008080; text-decoration-color: #008080; font-weight: bold\">-0.5189</span><span style=\"font-weight: bold\">])</span>\n",
       "</pre>\n"
      ],
      "text/plain": [
       "\u001b[1;35mtensor\u001b[0m\u001b[1m(\u001b[0m\u001b[1m[\u001b[0m \u001b[1;36m0.5945\u001b[0m,  \u001b[1;36m0.5006\u001b[0m, \u001b[1;36m-0.9155\u001b[0m,  \u001b[1;36m0.0270\u001b[0m,  \u001b[1;36m0.6134\u001b[0m, \u001b[1;36m-0.5189\u001b[0m\u001b[1m]\u001b[0m\u001b[1m)\u001b[0m\n"
      ]
     },
     "metadata": {},
     "output_type": "display_data"
    },
    {
     "data": {
      "text/html": [
       "<pre style=\"white-space:pre;overflow-x:auto;line-height:normal;font-family:Menlo,'DejaVu Sans Mono',consolas,'Courier New',monospace\">示例输出为：\n",
       "</pre>\n"
      ],
      "text/plain": [
       "示例输出为：\n"
      ]
     },
     "metadata": {},
     "output_type": "display_data"
    },
    {
     "data": {
      "text/html": [
       "<pre style=\"white-space:pre;overflow-x:auto;line-height:normal;font-family:Menlo,'DejaVu Sans Mono',consolas,'Courier New',monospace\"><span style=\"color: #800080; text-decoration-color: #800080; font-weight: bold\">tensor</span><span style=\"font-weight: bold\">([</span><span style=\"color: #008080; text-decoration-color: #008080; font-weight: bold\">0.5945</span>, <span style=\"color: #008080; text-decoration-color: #008080; font-weight: bold\">0.5006</span>, <span style=\"color: #008080; text-decoration-color: #008080; font-weight: bold\">0.0000</span>, <span style=\"color: #008080; text-decoration-color: #008080; font-weight: bold\">0.0270</span>, <span style=\"color: #008080; text-decoration-color: #008080; font-weight: bold\">0.6134</span>, <span style=\"color: #008080; text-decoration-color: #008080; font-weight: bold\">0.0000</span><span style=\"font-weight: bold\">])</span>\n",
       "</pre>\n"
      ],
      "text/plain": [
       "\u001b[1;35mtensor\u001b[0m\u001b[1m(\u001b[0m\u001b[1m[\u001b[0m\u001b[1;36m0.5945\u001b[0m, \u001b[1;36m0.5006\u001b[0m, \u001b[1;36m0.0000\u001b[0m, \u001b[1;36m0.0270\u001b[0m, \u001b[1;36m0.6134\u001b[0m, \u001b[1;36m0.0000\u001b[0m\u001b[1m]\u001b[0m\u001b[1m)\u001b[0m\n"
      ]
     },
     "metadata": {},
     "output_type": "display_data"
    }
   ],
   "source": [
    "demo_model = nn.ReLU()\n",
    "\n",
    "demo_input = -1.0 + 2.0 * torch.rand(6)\n",
    "\n",
    "print(\"示例输入为：\")\n",
    "print(demo_input)\n",
    "\n",
    "demo_output = demo_model(demo_input)\n",
    "\n",
    "print(\"示例输出为：\")\n",
    "print(demo_output)"
   ]
  },
  {
   "cell_type": "code",
   "execution_count": 10,
   "metadata": {},
   "outputs": [
    {
     "data": {
      "text/html": [
       "<pre style=\"white-space:pre;overflow-x:auto;line-height:normal;font-family:Menlo,'DejaVu Sans Mono',consolas,'Courier New',monospace\">示例输入为：\n",
       "</pre>\n"
      ],
      "text/plain": [
       "示例输入为：\n"
      ]
     },
     "metadata": {},
     "output_type": "display_data"
    },
    {
     "data": {
      "text/html": [
       "<pre style=\"white-space:pre;overflow-x:auto;line-height:normal;font-family:Menlo,'DejaVu Sans Mono',consolas,'Courier New',monospace\"><span style=\"color: #800080; text-decoration-color: #800080; font-weight: bold\">tensor</span><span style=\"font-weight: bold\">([</span> <span style=\"color: #008080; text-decoration-color: #008080; font-weight: bold\">0.2715</span>, <span style=\"color: #008080; text-decoration-color: #008080; font-weight: bold\">-0.8667</span>,  <span style=\"color: #008080; text-decoration-color: #008080; font-weight: bold\">0.2811</span>, <span style=\"color: #008080; text-decoration-color: #008080; font-weight: bold\">-0.8315</span>, <span style=\"color: #008080; text-decoration-color: #008080; font-weight: bold\">-0.2325</span>,  <span style=\"color: #008080; text-decoration-color: #008080; font-weight: bold\">0.3133</span><span style=\"font-weight: bold\">])</span>\n",
       "</pre>\n"
      ],
      "text/plain": [
       "\u001b[1;35mtensor\u001b[0m\u001b[1m(\u001b[0m\u001b[1m[\u001b[0m \u001b[1;36m0.2715\u001b[0m, \u001b[1;36m-0.8667\u001b[0m,  \u001b[1;36m0.2811\u001b[0m, \u001b[1;36m-0.8315\u001b[0m, \u001b[1;36m-0.2325\u001b[0m,  \u001b[1;36m0.3133\u001b[0m\u001b[1m]\u001b[0m\u001b[1m)\u001b[0m\n"
      ]
     },
     "metadata": {},
     "output_type": "display_data"
    },
    {
     "data": {
      "text/html": [
       "<pre style=\"white-space:pre;overflow-x:auto;line-height:normal;font-family:Menlo,'DejaVu Sans Mono',consolas,'Courier New',monospace\">示例输出为：\n",
       "</pre>\n"
      ],
      "text/plain": [
       "示例输出为：\n"
      ]
     },
     "metadata": {},
     "output_type": "display_data"
    },
    {
     "data": {
      "text/html": [
       "<pre style=\"white-space:pre;overflow-x:auto;line-height:normal;font-family:Menlo,'DejaVu Sans Mono',consolas,'Courier New',monospace\"><span style=\"color: #800080; text-decoration-color: #800080; font-weight: bold\">tensor</span><span style=\"font-weight: bold\">([</span><span style=\"color: #008080; text-decoration-color: #008080; font-weight: bold\">0.5675</span>, <span style=\"color: #008080; text-decoration-color: #008080; font-weight: bold\">0.2959</span>, <span style=\"color: #008080; text-decoration-color: #008080; font-weight: bold\">0.5698</span>, <span style=\"color: #008080; text-decoration-color: #008080; font-weight: bold\">0.3033</span>, <span style=\"color: #008080; text-decoration-color: #008080; font-weight: bold\">0.4421</span>, <span style=\"color: #008080; text-decoration-color: #008080; font-weight: bold\">0.5777</span><span style=\"font-weight: bold\">])</span>\n",
       "</pre>\n"
      ],
      "text/plain": [
       "\u001b[1;35mtensor\u001b[0m\u001b[1m(\u001b[0m\u001b[1m[\u001b[0m\u001b[1;36m0.5675\u001b[0m, \u001b[1;36m0.2959\u001b[0m, \u001b[1;36m0.5698\u001b[0m, \u001b[1;36m0.3033\u001b[0m, \u001b[1;36m0.4421\u001b[0m, \u001b[1;36m0.5777\u001b[0m\u001b[1m]\u001b[0m\u001b[1m)\u001b[0m\n"
      ]
     },
     "metadata": {},
     "output_type": "display_data"
    }
   ],
   "source": [
    "demo_model = nn.Sigmoid()\n",
    "\n",
    "demo_input = -1.0 + 2.0 * torch.rand(6)\n",
    "\n",
    "print(\"示例输入为：\")\n",
    "print(demo_input)\n",
    "\n",
    "demo_output = demo_model(demo_input)\n",
    "\n",
    "print(\"示例输出为：\")\n",
    "print(demo_output)"
   ]
  },
  {
   "cell_type": "markdown",
   "metadata": {},
   "source": [
    "### 组合拳\n",
    "\n",
    "单靠定义一个一个的独立模块无法构建大的神经网络，因此，需要一个能够将所有神经网络的组成部分排列在一起的容器。在PyTorch中，用来扮演这一角色的是`nn.Sequential`。它接收多个参数，并将其排列为一张能按顺序执行下来的大型神经网络。"
   ]
  },
  {
   "cell_type": "code",
   "execution_count": 11,
   "metadata": {},
   "outputs": [
    {
     "data": {
      "text/html": [
       "<pre style=\"white-space:pre;overflow-x:auto;line-height:normal;font-family:Menlo,'DejaVu Sans Mono',consolas,'Courier New',monospace\">示例输入的形状为：\n",
       "</pre>\n"
      ],
      "text/plain": [
       "示例输入的形状为：\n"
      ]
     },
     "metadata": {},
     "output_type": "display_data"
    },
    {
     "data": {
      "text/html": [
       "<pre style=\"white-space:pre;overflow-x:auto;line-height:normal;font-family:Menlo,'DejaVu Sans Mono',consolas,'Courier New',monospace\"><span style=\"color: #800080; text-decoration-color: #800080; font-weight: bold\">torch.Size</span><span style=\"font-weight: bold\">([</span><span style=\"color: #008080; text-decoration-color: #008080; font-weight: bold\">16</span>, <span style=\"color: #008080; text-decoration-color: #008080; font-weight: bold\">28</span>, <span style=\"color: #008080; text-decoration-color: #008080; font-weight: bold\">28</span><span style=\"font-weight: bold\">])</span>\n",
       "</pre>\n"
      ],
      "text/plain": [
       "\u001b[1;35mtorch.Size\u001b[0m\u001b[1m(\u001b[0m\u001b[1m[\u001b[0m\u001b[1;36m16\u001b[0m, \u001b[1;36m28\u001b[0m, \u001b[1;36m28\u001b[0m\u001b[1m]\u001b[0m\u001b[1m)\u001b[0m\n"
      ]
     },
     "metadata": {},
     "output_type": "display_data"
    },
    {
     "data": {
      "text/html": [
       "<pre style=\"white-space:pre;overflow-x:auto;line-height:normal;font-family:Menlo,'DejaVu Sans Mono',consolas,'Courier New',monospace\">示例输出为：\n",
       "</pre>\n"
      ],
      "text/plain": [
       "示例输出为：\n"
      ]
     },
     "metadata": {},
     "output_type": "display_data"
    },
    {
     "data": {
      "text/html": [
       "<pre style=\"white-space:pre;overflow-x:auto;line-height:normal;font-family:Menlo,'DejaVu Sans Mono',consolas,'Courier New',monospace\"><span style=\"color: #800080; text-decoration-color: #800080; font-weight: bold\">tensor</span><span style=\"font-weight: bold\">([[</span><span style=\"color: #008080; text-decoration-color: #008080; font-weight: bold\">0.0000</span>, <span style=\"color: #008080; text-decoration-color: #008080; font-weight: bold\">0.1682</span>, <span style=\"color: #008080; text-decoration-color: #008080; font-weight: bold\">0.1079</span>, <span style=\"color: #008080; text-decoration-color: #008080; font-weight: bold\">0.1997</span>, <span style=\"color: #008080; text-decoration-color: #008080; font-weight: bold\">0.0000</span>, <span style=\"color: #008080; text-decoration-color: #008080; font-weight: bold\">0.0000</span>, <span style=\"color: #008080; text-decoration-color: #008080; font-weight: bold\">0.0000</span>, <span style=\"color: #008080; text-decoration-color: #008080; font-weight: bold\">0.0000</span>, <span style=\"color: #008080; text-decoration-color: #008080; font-weight: bold\">0.0000</span>,\n",
       "         <span style=\"color: #008080; text-decoration-color: #008080; font-weight: bold\">0.1429</span><span style=\"font-weight: bold\">]</span>,\n",
       "        <span style=\"font-weight: bold\">[</span><span style=\"color: #008080; text-decoration-color: #008080; font-weight: bold\">0.0000</span>, <span style=\"color: #008080; text-decoration-color: #008080; font-weight: bold\">0.0000</span>, <span style=\"color: #008080; text-decoration-color: #008080; font-weight: bold\">0.3685</span>, <span style=\"color: #008080; text-decoration-color: #008080; font-weight: bold\">0.2738</span>, <span style=\"color: #008080; text-decoration-color: #008080; font-weight: bold\">0.0000</span>, <span style=\"color: #008080; text-decoration-color: #008080; font-weight: bold\">0.0000</span>, <span style=\"color: #008080; text-decoration-color: #008080; font-weight: bold\">0.0000</span>, <span style=\"color: #008080; text-decoration-color: #008080; font-weight: bold\">0.0000</span>, <span style=\"color: #008080; text-decoration-color: #008080; font-weight: bold\">0.0000</span>,\n",
       "         <span style=\"color: #008080; text-decoration-color: #008080; font-weight: bold\">0.1544</span><span style=\"font-weight: bold\">]</span>,\n",
       "        <span style=\"font-weight: bold\">[</span><span style=\"color: #008080; text-decoration-color: #008080; font-weight: bold\">0.0000</span>, <span style=\"color: #008080; text-decoration-color: #008080; font-weight: bold\">0.3589</span>, <span style=\"color: #008080; text-decoration-color: #008080; font-weight: bold\">0.0521</span>, <span style=\"color: #008080; text-decoration-color: #008080; font-weight: bold\">0.1380</span>, <span style=\"color: #008080; text-decoration-color: #008080; font-weight: bold\">0.0000</span>, <span style=\"color: #008080; text-decoration-color: #008080; font-weight: bold\">0.0000</span>, <span style=\"color: #008080; text-decoration-color: #008080; font-weight: bold\">0.0000</span>, <span style=\"color: #008080; text-decoration-color: #008080; font-weight: bold\">0.0733</span>, <span style=\"color: #008080; text-decoration-color: #008080; font-weight: bold\">0.0954</span>,\n",
       "         <span style=\"color: #008080; text-decoration-color: #008080; font-weight: bold\">0.1040</span><span style=\"font-weight: bold\">]</span>,\n",
       "        <span style=\"font-weight: bold\">[</span><span style=\"color: #008080; text-decoration-color: #008080; font-weight: bold\">0.0000</span>, <span style=\"color: #008080; text-decoration-color: #008080; font-weight: bold\">0.5184</span>, <span style=\"color: #008080; text-decoration-color: #008080; font-weight: bold\">0.2672</span>, <span style=\"color: #008080; text-decoration-color: #008080; font-weight: bold\">0.1439</span>, <span style=\"color: #008080; text-decoration-color: #008080; font-weight: bold\">0.0570</span>, <span style=\"color: #008080; text-decoration-color: #008080; font-weight: bold\">0.0000</span>, <span style=\"color: #008080; text-decoration-color: #008080; font-weight: bold\">0.0000</span>, <span style=\"color: #008080; text-decoration-color: #008080; font-weight: bold\">0.3087</span>, <span style=\"color: #008080; text-decoration-color: #008080; font-weight: bold\">0.0603</span>,\n",
       "         <span style=\"color: #008080; text-decoration-color: #008080; font-weight: bold\">0.4467</span><span style=\"font-weight: bold\">]</span>,\n",
       "        <span style=\"font-weight: bold\">[</span><span style=\"color: #008080; text-decoration-color: #008080; font-weight: bold\">0.1210</span>, <span style=\"color: #008080; text-decoration-color: #008080; font-weight: bold\">0.3195</span>, <span style=\"color: #008080; text-decoration-color: #008080; font-weight: bold\">0.1306</span>, <span style=\"color: #008080; text-decoration-color: #008080; font-weight: bold\">0.2347</span>, <span style=\"color: #008080; text-decoration-color: #008080; font-weight: bold\">0.0911</span>, <span style=\"color: #008080; text-decoration-color: #008080; font-weight: bold\">0.0000</span>, <span style=\"color: #008080; text-decoration-color: #008080; font-weight: bold\">0.0000</span>, <span style=\"color: #008080; text-decoration-color: #008080; font-weight: bold\">0.0000</span>, <span style=\"color: #008080; text-decoration-color: #008080; font-weight: bold\">0.1110</span>,\n",
       "         <span style=\"color: #008080; text-decoration-color: #008080; font-weight: bold\">0.1512</span><span style=\"font-weight: bold\">]</span>,\n",
       "        <span style=\"font-weight: bold\">[</span><span style=\"color: #008080; text-decoration-color: #008080; font-weight: bold\">0.0000</span>, <span style=\"color: #008080; text-decoration-color: #008080; font-weight: bold\">0.0000</span>, <span style=\"color: #008080; text-decoration-color: #008080; font-weight: bold\">0.1296</span>, <span style=\"color: #008080; text-decoration-color: #008080; font-weight: bold\">0.5880</span>, <span style=\"color: #008080; text-decoration-color: #008080; font-weight: bold\">0.1808</span>, <span style=\"color: #008080; text-decoration-color: #008080; font-weight: bold\">0.0000</span>, <span style=\"color: #008080; text-decoration-color: #008080; font-weight: bold\">0.0000</span>, <span style=\"color: #008080; text-decoration-color: #008080; font-weight: bold\">0.2866</span>, <span style=\"color: #008080; text-decoration-color: #008080; font-weight: bold\">0.0000</span>,\n",
       "         <span style=\"color: #008080; text-decoration-color: #008080; font-weight: bold\">0.0606</span><span style=\"font-weight: bold\">]</span>,\n",
       "        <span style=\"font-weight: bold\">[</span><span style=\"color: #008080; text-decoration-color: #008080; font-weight: bold\">0.0676</span>, <span style=\"color: #008080; text-decoration-color: #008080; font-weight: bold\">0.0292</span>, <span style=\"color: #008080; text-decoration-color: #008080; font-weight: bold\">0.0000</span>, <span style=\"color: #008080; text-decoration-color: #008080; font-weight: bold\">0.1181</span>, <span style=\"color: #008080; text-decoration-color: #008080; font-weight: bold\">0.0000</span>, <span style=\"color: #008080; text-decoration-color: #008080; font-weight: bold\">0.0000</span>, <span style=\"color: #008080; text-decoration-color: #008080; font-weight: bold\">0.0000</span>, <span style=\"color: #008080; text-decoration-color: #008080; font-weight: bold\">0.2434</span>, <span style=\"color: #008080; text-decoration-color: #008080; font-weight: bold\">0.0000</span>,\n",
       "         <span style=\"color: #008080; text-decoration-color: #008080; font-weight: bold\">0.1957</span><span style=\"font-weight: bold\">]</span>,\n",
       "        <span style=\"font-weight: bold\">[</span><span style=\"color: #008080; text-decoration-color: #008080; font-weight: bold\">0.0360</span>, <span style=\"color: #008080; text-decoration-color: #008080; font-weight: bold\">0.1452</span>, <span style=\"color: #008080; text-decoration-color: #008080; font-weight: bold\">0.1893</span>, <span style=\"color: #008080; text-decoration-color: #008080; font-weight: bold\">0.3121</span>, <span style=\"color: #008080; text-decoration-color: #008080; font-weight: bold\">0.0000</span>, <span style=\"color: #008080; text-decoration-color: #008080; font-weight: bold\">0.0000</span>, <span style=\"color: #008080; text-decoration-color: #008080; font-weight: bold\">0.0000</span>, <span style=\"color: #008080; text-decoration-color: #008080; font-weight: bold\">0.0000</span>, <span style=\"color: #008080; text-decoration-color: #008080; font-weight: bold\">0.0000</span>,\n",
       "         <span style=\"color: #008080; text-decoration-color: #008080; font-weight: bold\">0.0690</span><span style=\"font-weight: bold\">]</span>,\n",
       "        <span style=\"font-weight: bold\">[</span><span style=\"color: #008080; text-decoration-color: #008080; font-weight: bold\">0.0745</span>, <span style=\"color: #008080; text-decoration-color: #008080; font-weight: bold\">0.3306</span>, <span style=\"color: #008080; text-decoration-color: #008080; font-weight: bold\">0.2409</span>, <span style=\"color: #008080; text-decoration-color: #008080; font-weight: bold\">0.3370</span>, <span style=\"color: #008080; text-decoration-color: #008080; font-weight: bold\">0.0857</span>, <span style=\"color: #008080; text-decoration-color: #008080; font-weight: bold\">0.0000</span>, <span style=\"color: #008080; text-decoration-color: #008080; font-weight: bold\">0.0000</span>, <span style=\"color: #008080; text-decoration-color: #008080; font-weight: bold\">0.0134</span>, <span style=\"color: #008080; text-decoration-color: #008080; font-weight: bold\">0.0000</span>,\n",
       "         <span style=\"color: #008080; text-decoration-color: #008080; font-weight: bold\">0.0000</span><span style=\"font-weight: bold\">]</span>,\n",
       "        <span style=\"font-weight: bold\">[</span><span style=\"color: #008080; text-decoration-color: #008080; font-weight: bold\">0.0000</span>, <span style=\"color: #008080; text-decoration-color: #008080; font-weight: bold\">0.0896</span>, <span style=\"color: #008080; text-decoration-color: #008080; font-weight: bold\">0.1689</span>, <span style=\"color: #008080; text-decoration-color: #008080; font-weight: bold\">0.0797</span>, <span style=\"color: #008080; text-decoration-color: #008080; font-weight: bold\">0.2007</span>, <span style=\"color: #008080; text-decoration-color: #008080; font-weight: bold\">0.0000</span>, <span style=\"color: #008080; text-decoration-color: #008080; font-weight: bold\">0.0000</span>, <span style=\"color: #008080; text-decoration-color: #008080; font-weight: bold\">0.0326</span>, <span style=\"color: #008080; text-decoration-color: #008080; font-weight: bold\">0.0000</span>,\n",
       "         <span style=\"color: #008080; text-decoration-color: #008080; font-weight: bold\">0.0941</span><span style=\"font-weight: bold\">]</span>,\n",
       "        <span style=\"font-weight: bold\">[</span><span style=\"color: #008080; text-decoration-color: #008080; font-weight: bold\">0.0449</span>, <span style=\"color: #008080; text-decoration-color: #008080; font-weight: bold\">0.5009</span>, <span style=\"color: #008080; text-decoration-color: #008080; font-weight: bold\">0.0000</span>, <span style=\"color: #008080; text-decoration-color: #008080; font-weight: bold\">0.2722</span>, <span style=\"color: #008080; text-decoration-color: #008080; font-weight: bold\">0.0673</span>, <span style=\"color: #008080; text-decoration-color: #008080; font-weight: bold\">0.0000</span>, <span style=\"color: #008080; text-decoration-color: #008080; font-weight: bold\">0.0000</span>, <span style=\"color: #008080; text-decoration-color: #008080; font-weight: bold\">0.0597</span>, <span style=\"color: #008080; text-decoration-color: #008080; font-weight: bold\">0.2493</span>,\n",
       "         <span style=\"color: #008080; text-decoration-color: #008080; font-weight: bold\">0.0024</span><span style=\"font-weight: bold\">]</span>,\n",
       "        <span style=\"font-weight: bold\">[</span><span style=\"color: #008080; text-decoration-color: #008080; font-weight: bold\">0.0000</span>, <span style=\"color: #008080; text-decoration-color: #008080; font-weight: bold\">0.4146</span>, <span style=\"color: #008080; text-decoration-color: #008080; font-weight: bold\">0.0439</span>, <span style=\"color: #008080; text-decoration-color: #008080; font-weight: bold\">0.3560</span>, <span style=\"color: #008080; text-decoration-color: #008080; font-weight: bold\">0.0233</span>, <span style=\"color: #008080; text-decoration-color: #008080; font-weight: bold\">0.0000</span>, <span style=\"color: #008080; text-decoration-color: #008080; font-weight: bold\">0.0000</span>, <span style=\"color: #008080; text-decoration-color: #008080; font-weight: bold\">0.0000</span>, <span style=\"color: #008080; text-decoration-color: #008080; font-weight: bold\">0.0000</span>,\n",
       "         <span style=\"color: #008080; text-decoration-color: #008080; font-weight: bold\">0.1454</span><span style=\"font-weight: bold\">]</span>,\n",
       "        <span style=\"font-weight: bold\">[</span><span style=\"color: #008080; text-decoration-color: #008080; font-weight: bold\">0.1722</span>, <span style=\"color: #008080; text-decoration-color: #008080; font-weight: bold\">0.6191</span>, <span style=\"color: #008080; text-decoration-color: #008080; font-weight: bold\">0.0000</span>, <span style=\"color: #008080; text-decoration-color: #008080; font-weight: bold\">0.2174</span>, <span style=\"color: #008080; text-decoration-color: #008080; font-weight: bold\">0.2309</span>, <span style=\"color: #008080; text-decoration-color: #008080; font-weight: bold\">0.0000</span>, <span style=\"color: #008080; text-decoration-color: #008080; font-weight: bold\">0.0000</span>, <span style=\"color: #008080; text-decoration-color: #008080; font-weight: bold\">0.0000</span>, <span style=\"color: #008080; text-decoration-color: #008080; font-weight: bold\">0.0000</span>,\n",
       "         <span style=\"color: #008080; text-decoration-color: #008080; font-weight: bold\">0.3222</span><span style=\"font-weight: bold\">]</span>,\n",
       "        <span style=\"font-weight: bold\">[</span><span style=\"color: #008080; text-decoration-color: #008080; font-weight: bold\">0.0000</span>, <span style=\"color: #008080; text-decoration-color: #008080; font-weight: bold\">0.1337</span>, <span style=\"color: #008080; text-decoration-color: #008080; font-weight: bold\">0.1853</span>, <span style=\"color: #008080; text-decoration-color: #008080; font-weight: bold\">0.4079</span>, <span style=\"color: #008080; text-decoration-color: #008080; font-weight: bold\">0.0597</span>, <span style=\"color: #008080; text-decoration-color: #008080; font-weight: bold\">0.0000</span>, <span style=\"color: #008080; text-decoration-color: #008080; font-weight: bold\">0.0000</span>, <span style=\"color: #008080; text-decoration-color: #008080; font-weight: bold\">0.0280</span>, <span style=\"color: #008080; text-decoration-color: #008080; font-weight: bold\">0.0467</span>,\n",
       "         <span style=\"color: #008080; text-decoration-color: #008080; font-weight: bold\">0.2812</span><span style=\"font-weight: bold\">]</span>,\n",
       "        <span style=\"font-weight: bold\">[</span><span style=\"color: #008080; text-decoration-color: #008080; font-weight: bold\">0.0000</span>, <span style=\"color: #008080; text-decoration-color: #008080; font-weight: bold\">0.2690</span>, <span style=\"color: #008080; text-decoration-color: #008080; font-weight: bold\">0.2261</span>, <span style=\"color: #008080; text-decoration-color: #008080; font-weight: bold\">0.4885</span>, <span style=\"color: #008080; text-decoration-color: #008080; font-weight: bold\">0.0408</span>, <span style=\"color: #008080; text-decoration-color: #008080; font-weight: bold\">0.0000</span>, <span style=\"color: #008080; text-decoration-color: #008080; font-weight: bold\">0.0000</span>, <span style=\"color: #008080; text-decoration-color: #008080; font-weight: bold\">0.1152</span>, <span style=\"color: #008080; text-decoration-color: #008080; font-weight: bold\">0.0410</span>,\n",
       "         <span style=\"color: #008080; text-decoration-color: #008080; font-weight: bold\">0.0074</span><span style=\"font-weight: bold\">]</span>,\n",
       "        <span style=\"font-weight: bold\">[</span><span style=\"color: #008080; text-decoration-color: #008080; font-weight: bold\">0.3884</span>, <span style=\"color: #008080; text-decoration-color: #008080; font-weight: bold\">0.0000</span>, <span style=\"color: #008080; text-decoration-color: #008080; font-weight: bold\">0.0000</span>, <span style=\"color: #008080; text-decoration-color: #008080; font-weight: bold\">0.3716</span>, <span style=\"color: #008080; text-decoration-color: #008080; font-weight: bold\">0.0891</span>, <span style=\"color: #008080; text-decoration-color: #008080; font-weight: bold\">0.0000</span>, <span style=\"color: #008080; text-decoration-color: #008080; font-weight: bold\">0.0000</span>, <span style=\"color: #008080; text-decoration-color: #008080; font-weight: bold\">0.1117</span>, <span style=\"color: #008080; text-decoration-color: #008080; font-weight: bold\">0.0000</span>,\n",
       "         <span style=\"color: #008080; text-decoration-color: #008080; font-weight: bold\">0.1082</span><span style=\"font-weight: bold\">]]</span>, <span style=\"color: #808000; text-decoration-color: #808000\">grad_fn</span>=<span style=\"font-weight: bold\">&lt;</span><span style=\"color: #ff00ff; text-decoration-color: #ff00ff; font-weight: bold\">ReluBackward0</span><span style=\"font-weight: bold\">&gt;)</span>\n",
       "</pre>\n"
      ],
      "text/plain": [
       "\u001b[1;35mtensor\u001b[0m\u001b[1m(\u001b[0m\u001b[1m[\u001b[0m\u001b[1m[\u001b[0m\u001b[1;36m0.0000\u001b[0m, \u001b[1;36m0.1682\u001b[0m, \u001b[1;36m0.1079\u001b[0m, \u001b[1;36m0.1997\u001b[0m, \u001b[1;36m0.0000\u001b[0m, \u001b[1;36m0.0000\u001b[0m, \u001b[1;36m0.0000\u001b[0m, \u001b[1;36m0.0000\u001b[0m, \u001b[1;36m0.0000\u001b[0m,\n",
       "         \u001b[1;36m0.1429\u001b[0m\u001b[1m]\u001b[0m,\n",
       "        \u001b[1m[\u001b[0m\u001b[1;36m0.0000\u001b[0m, \u001b[1;36m0.0000\u001b[0m, \u001b[1;36m0.3685\u001b[0m, \u001b[1;36m0.2738\u001b[0m, \u001b[1;36m0.0000\u001b[0m, \u001b[1;36m0.0000\u001b[0m, \u001b[1;36m0.0000\u001b[0m, \u001b[1;36m0.0000\u001b[0m, \u001b[1;36m0.0000\u001b[0m,\n",
       "         \u001b[1;36m0.1544\u001b[0m\u001b[1m]\u001b[0m,\n",
       "        \u001b[1m[\u001b[0m\u001b[1;36m0.0000\u001b[0m, \u001b[1;36m0.3589\u001b[0m, \u001b[1;36m0.0521\u001b[0m, \u001b[1;36m0.1380\u001b[0m, \u001b[1;36m0.0000\u001b[0m, \u001b[1;36m0.0000\u001b[0m, \u001b[1;36m0.0000\u001b[0m, \u001b[1;36m0.0733\u001b[0m, \u001b[1;36m0.0954\u001b[0m,\n",
       "         \u001b[1;36m0.1040\u001b[0m\u001b[1m]\u001b[0m,\n",
       "        \u001b[1m[\u001b[0m\u001b[1;36m0.0000\u001b[0m, \u001b[1;36m0.5184\u001b[0m, \u001b[1;36m0.2672\u001b[0m, \u001b[1;36m0.1439\u001b[0m, \u001b[1;36m0.0570\u001b[0m, \u001b[1;36m0.0000\u001b[0m, \u001b[1;36m0.0000\u001b[0m, \u001b[1;36m0.3087\u001b[0m, \u001b[1;36m0.0603\u001b[0m,\n",
       "         \u001b[1;36m0.4467\u001b[0m\u001b[1m]\u001b[0m,\n",
       "        \u001b[1m[\u001b[0m\u001b[1;36m0.1210\u001b[0m, \u001b[1;36m0.3195\u001b[0m, \u001b[1;36m0.1306\u001b[0m, \u001b[1;36m0.2347\u001b[0m, \u001b[1;36m0.0911\u001b[0m, \u001b[1;36m0.0000\u001b[0m, \u001b[1;36m0.0000\u001b[0m, \u001b[1;36m0.0000\u001b[0m, \u001b[1;36m0.1110\u001b[0m,\n",
       "         \u001b[1;36m0.1512\u001b[0m\u001b[1m]\u001b[0m,\n",
       "        \u001b[1m[\u001b[0m\u001b[1;36m0.0000\u001b[0m, \u001b[1;36m0.0000\u001b[0m, \u001b[1;36m0.1296\u001b[0m, \u001b[1;36m0.5880\u001b[0m, \u001b[1;36m0.1808\u001b[0m, \u001b[1;36m0.0000\u001b[0m, \u001b[1;36m0.0000\u001b[0m, \u001b[1;36m0.2866\u001b[0m, \u001b[1;36m0.0000\u001b[0m,\n",
       "         \u001b[1;36m0.0606\u001b[0m\u001b[1m]\u001b[0m,\n",
       "        \u001b[1m[\u001b[0m\u001b[1;36m0.0676\u001b[0m, \u001b[1;36m0.0292\u001b[0m, \u001b[1;36m0.0000\u001b[0m, \u001b[1;36m0.1181\u001b[0m, \u001b[1;36m0.0000\u001b[0m, \u001b[1;36m0.0000\u001b[0m, \u001b[1;36m0.0000\u001b[0m, \u001b[1;36m0.2434\u001b[0m, \u001b[1;36m0.0000\u001b[0m,\n",
       "         \u001b[1;36m0.1957\u001b[0m\u001b[1m]\u001b[0m,\n",
       "        \u001b[1m[\u001b[0m\u001b[1;36m0.0360\u001b[0m, \u001b[1;36m0.1452\u001b[0m, \u001b[1;36m0.1893\u001b[0m, \u001b[1;36m0.3121\u001b[0m, \u001b[1;36m0.0000\u001b[0m, \u001b[1;36m0.0000\u001b[0m, \u001b[1;36m0.0000\u001b[0m, \u001b[1;36m0.0000\u001b[0m, \u001b[1;36m0.0000\u001b[0m,\n",
       "         \u001b[1;36m0.0690\u001b[0m\u001b[1m]\u001b[0m,\n",
       "        \u001b[1m[\u001b[0m\u001b[1;36m0.0745\u001b[0m, \u001b[1;36m0.3306\u001b[0m, \u001b[1;36m0.2409\u001b[0m, \u001b[1;36m0.3370\u001b[0m, \u001b[1;36m0.0857\u001b[0m, \u001b[1;36m0.0000\u001b[0m, \u001b[1;36m0.0000\u001b[0m, \u001b[1;36m0.0134\u001b[0m, \u001b[1;36m0.0000\u001b[0m,\n",
       "         \u001b[1;36m0.0000\u001b[0m\u001b[1m]\u001b[0m,\n",
       "        \u001b[1m[\u001b[0m\u001b[1;36m0.0000\u001b[0m, \u001b[1;36m0.0896\u001b[0m, \u001b[1;36m0.1689\u001b[0m, \u001b[1;36m0.0797\u001b[0m, \u001b[1;36m0.2007\u001b[0m, \u001b[1;36m0.0000\u001b[0m, \u001b[1;36m0.0000\u001b[0m, \u001b[1;36m0.0326\u001b[0m, \u001b[1;36m0.0000\u001b[0m,\n",
       "         \u001b[1;36m0.0941\u001b[0m\u001b[1m]\u001b[0m,\n",
       "        \u001b[1m[\u001b[0m\u001b[1;36m0.0449\u001b[0m, \u001b[1;36m0.5009\u001b[0m, \u001b[1;36m0.0000\u001b[0m, \u001b[1;36m0.2722\u001b[0m, \u001b[1;36m0.0673\u001b[0m, \u001b[1;36m0.0000\u001b[0m, \u001b[1;36m0.0000\u001b[0m, \u001b[1;36m0.0597\u001b[0m, \u001b[1;36m0.2493\u001b[0m,\n",
       "         \u001b[1;36m0.0024\u001b[0m\u001b[1m]\u001b[0m,\n",
       "        \u001b[1m[\u001b[0m\u001b[1;36m0.0000\u001b[0m, \u001b[1;36m0.4146\u001b[0m, \u001b[1;36m0.0439\u001b[0m, \u001b[1;36m0.3560\u001b[0m, \u001b[1;36m0.0233\u001b[0m, \u001b[1;36m0.0000\u001b[0m, \u001b[1;36m0.0000\u001b[0m, \u001b[1;36m0.0000\u001b[0m, \u001b[1;36m0.0000\u001b[0m,\n",
       "         \u001b[1;36m0.1454\u001b[0m\u001b[1m]\u001b[0m,\n",
       "        \u001b[1m[\u001b[0m\u001b[1;36m0.1722\u001b[0m, \u001b[1;36m0.6191\u001b[0m, \u001b[1;36m0.0000\u001b[0m, \u001b[1;36m0.2174\u001b[0m, \u001b[1;36m0.2309\u001b[0m, \u001b[1;36m0.0000\u001b[0m, \u001b[1;36m0.0000\u001b[0m, \u001b[1;36m0.0000\u001b[0m, \u001b[1;36m0.0000\u001b[0m,\n",
       "         \u001b[1;36m0.3222\u001b[0m\u001b[1m]\u001b[0m,\n",
       "        \u001b[1m[\u001b[0m\u001b[1;36m0.0000\u001b[0m, \u001b[1;36m0.1337\u001b[0m, \u001b[1;36m0.1853\u001b[0m, \u001b[1;36m0.4079\u001b[0m, \u001b[1;36m0.0597\u001b[0m, \u001b[1;36m0.0000\u001b[0m, \u001b[1;36m0.0000\u001b[0m, \u001b[1;36m0.0280\u001b[0m, \u001b[1;36m0.0467\u001b[0m,\n",
       "         \u001b[1;36m0.2812\u001b[0m\u001b[1m]\u001b[0m,\n",
       "        \u001b[1m[\u001b[0m\u001b[1;36m0.0000\u001b[0m, \u001b[1;36m0.2690\u001b[0m, \u001b[1;36m0.2261\u001b[0m, \u001b[1;36m0.4885\u001b[0m, \u001b[1;36m0.0408\u001b[0m, \u001b[1;36m0.0000\u001b[0m, \u001b[1;36m0.0000\u001b[0m, \u001b[1;36m0.1152\u001b[0m, \u001b[1;36m0.0410\u001b[0m,\n",
       "         \u001b[1;36m0.0074\u001b[0m\u001b[1m]\u001b[0m,\n",
       "        \u001b[1m[\u001b[0m\u001b[1;36m0.3884\u001b[0m, \u001b[1;36m0.0000\u001b[0m, \u001b[1;36m0.0000\u001b[0m, \u001b[1;36m0.3716\u001b[0m, \u001b[1;36m0.0891\u001b[0m, \u001b[1;36m0.0000\u001b[0m, \u001b[1;36m0.0000\u001b[0m, \u001b[1;36m0.1117\u001b[0m, \u001b[1;36m0.0000\u001b[0m,\n",
       "         \u001b[1;36m0.1082\u001b[0m\u001b[1m]\u001b[0m\u001b[1m]\u001b[0m, \u001b[33mgrad_fn\u001b[0m=\u001b[1m<\u001b[0m\u001b[1;95mReluBackward0\u001b[0m\u001b[1m>\u001b[0m\u001b[1m)\u001b[0m\n"
      ]
     },
     "metadata": {},
     "output_type": "display_data"
    },
    {
     "data": {
      "text/html": [
       "<pre style=\"white-space:pre;overflow-x:auto;line-height:normal;font-family:Menlo,'DejaVu Sans Mono',consolas,'Courier New',monospace\">示例输出的形状为：\n",
       "</pre>\n"
      ],
      "text/plain": [
       "示例输出的形状为：\n"
      ]
     },
     "metadata": {},
     "output_type": "display_data"
    },
    {
     "data": {
      "text/html": [
       "<pre style=\"white-space:pre;overflow-x:auto;line-height:normal;font-family:Menlo,'DejaVu Sans Mono',consolas,'Courier New',monospace\"><span style=\"color: #800080; text-decoration-color: #800080; font-weight: bold\">torch.Size</span><span style=\"font-weight: bold\">([</span><span style=\"color: #008080; text-decoration-color: #008080; font-weight: bold\">16</span>, <span style=\"color: #008080; text-decoration-color: #008080; font-weight: bold\">10</span><span style=\"font-weight: bold\">])</span>\n",
       "</pre>\n"
      ],
      "text/plain": [
       "\u001b[1;35mtorch.Size\u001b[0m\u001b[1m(\u001b[0m\u001b[1m[\u001b[0m\u001b[1;36m16\u001b[0m, \u001b[1;36m10\u001b[0m\u001b[1m]\u001b[0m\u001b[1m)\u001b[0m\n"
      ]
     },
     "metadata": {},
     "output_type": "display_data"
    }
   ],
   "source": [
    "demo_model = nn.Sequential(\n",
    "    nn.Flatten(), # 将图像展开成一个巨大的一维向量\n",
    "    nn.Linear(28 * 28, 10),\n",
    "    nn.ReLU()\n",
    ")\n",
    "\n",
    "demo_input = torch.rand(16, 28, 28) # 模拟MNIST数据集\n",
    "\n",
    "print(\"示例输入的形状为：\")\n",
    "print(demo_input.shape)\n",
    "\n",
    "demo_output = demo_model(demo_input)\n",
    "\n",
    "print(\"示例输出为：\")\n",
    "print(demo_output)\n",
    "print(\"示例输出的形状为：\")\n",
    "print(demo_output.shape)"
   ]
  },
  {
   "cell_type": "markdown",
   "metadata": {},
   "source": [
    "## 2.3 模块的小技巧\n",
    "\n",
    "### 可以在模块里声明模块\n",
    "\n",
    "一个模块可以当做另一个模块的属性存在："
   ]
  },
  {
   "cell_type": "code",
   "execution_count": 13,
   "metadata": {},
   "outputs": [
    {
     "data": {
      "text/html": [
       "<pre style=\"white-space:pre;overflow-x:auto;line-height:normal;font-family:Menlo,'DejaVu Sans Mono',consolas,'Courier New',monospace\">模型为：\n",
       "</pre>\n"
      ],
      "text/plain": [
       "模型为：\n"
      ]
     },
     "metadata": {},
     "output_type": "display_data"
    },
    {
     "data": {
      "text/html": [
       "<pre style=\"white-space:pre;overflow-x:auto;line-height:normal;font-family:Menlo,'DejaVu Sans Mono',consolas,'Courier New',monospace\"><span style=\"color: #800080; text-decoration-color: #800080; font-weight: bold\">Residual</span><span style=\"font-weight: bold\">(</span>\n",
       "  <span style=\"font-weight: bold\">(</span>conv1<span style=\"font-weight: bold\">)</span>: <span style=\"color: #800080; text-decoration-color: #800080; font-weight: bold\">Conv2d</span><span style=\"font-weight: bold\">(</span><span style=\"color: #008080; text-decoration-color: #008080; font-weight: bold\">3</span>, <span style=\"color: #008080; text-decoration-color: #008080; font-weight: bold\">3</span>, <span style=\"color: #808000; text-decoration-color: #808000\">kernel_size</span>=<span style=\"font-weight: bold\">(</span><span style=\"color: #008080; text-decoration-color: #008080; font-weight: bold\">3</span>, <span style=\"color: #008080; text-decoration-color: #008080; font-weight: bold\">3</span><span style=\"font-weight: bold\">)</span>, <span style=\"color: #808000; text-decoration-color: #808000\">stride</span>=<span style=\"font-weight: bold\">(</span><span style=\"color: #008080; text-decoration-color: #008080; font-weight: bold\">1</span>, <span style=\"color: #008080; text-decoration-color: #008080; font-weight: bold\">1</span><span style=\"font-weight: bold\">)</span>, <span style=\"color: #808000; text-decoration-color: #808000\">padding</span>=<span style=\"font-weight: bold\">(</span><span style=\"color: #008080; text-decoration-color: #008080; font-weight: bold\">1</span>, <span style=\"color: #008080; text-decoration-color: #008080; font-weight: bold\">1</span><span style=\"font-weight: bold\">))</span>\n",
       "  <span style=\"font-weight: bold\">(</span>activaion1<span style=\"font-weight: bold\">)</span>: <span style=\"color: #800080; text-decoration-color: #800080; font-weight: bold\">ReLU</span><span style=\"font-weight: bold\">()</span>\n",
       "  <span style=\"font-weight: bold\">(</span>conv2<span style=\"font-weight: bold\">)</span>: <span style=\"color: #800080; text-decoration-color: #800080; font-weight: bold\">Conv2d</span><span style=\"font-weight: bold\">(</span><span style=\"color: #008080; text-decoration-color: #008080; font-weight: bold\">3</span>, <span style=\"color: #008080; text-decoration-color: #008080; font-weight: bold\">3</span>, <span style=\"color: #808000; text-decoration-color: #808000\">kernel_size</span>=<span style=\"font-weight: bold\">(</span><span style=\"color: #008080; text-decoration-color: #008080; font-weight: bold\">3</span>, <span style=\"color: #008080; text-decoration-color: #008080; font-weight: bold\">3</span><span style=\"font-weight: bold\">)</span>, <span style=\"color: #808000; text-decoration-color: #808000\">stride</span>=<span style=\"font-weight: bold\">(</span><span style=\"color: #008080; text-decoration-color: #008080; font-weight: bold\">1</span>, <span style=\"color: #008080; text-decoration-color: #008080; font-weight: bold\">1</span><span style=\"font-weight: bold\">)</span>, <span style=\"color: #808000; text-decoration-color: #808000\">padding</span>=<span style=\"font-weight: bold\">(</span><span style=\"color: #008080; text-decoration-color: #008080; font-weight: bold\">1</span>, <span style=\"color: #008080; text-decoration-color: #008080; font-weight: bold\">1</span><span style=\"font-weight: bold\">))</span>\n",
       "  <span style=\"font-weight: bold\">(</span>activaion2<span style=\"font-weight: bold\">)</span>: <span style=\"color: #800080; text-decoration-color: #800080; font-weight: bold\">ReLU</span><span style=\"font-weight: bold\">()</span>\n",
       "<span style=\"font-weight: bold\">)</span>\n",
       "</pre>\n"
      ],
      "text/plain": [
       "\u001b[1;35mResidual\u001b[0m\u001b[1m(\u001b[0m\n",
       "  \u001b[1m(\u001b[0mconv1\u001b[1m)\u001b[0m: \u001b[1;35mConv2d\u001b[0m\u001b[1m(\u001b[0m\u001b[1;36m3\u001b[0m, \u001b[1;36m3\u001b[0m, \u001b[33mkernel_size\u001b[0m=\u001b[1m(\u001b[0m\u001b[1;36m3\u001b[0m, \u001b[1;36m3\u001b[0m\u001b[1m)\u001b[0m, \u001b[33mstride\u001b[0m=\u001b[1m(\u001b[0m\u001b[1;36m1\u001b[0m, \u001b[1;36m1\u001b[0m\u001b[1m)\u001b[0m, \u001b[33mpadding\u001b[0m=\u001b[1m(\u001b[0m\u001b[1;36m1\u001b[0m, \u001b[1;36m1\u001b[0m\u001b[1m)\u001b[0m\u001b[1m)\u001b[0m\n",
       "  \u001b[1m(\u001b[0mactivaion1\u001b[1m)\u001b[0m: \u001b[1;35mReLU\u001b[0m\u001b[1m(\u001b[0m\u001b[1m)\u001b[0m\n",
       "  \u001b[1m(\u001b[0mconv2\u001b[1m)\u001b[0m: \u001b[1;35mConv2d\u001b[0m\u001b[1m(\u001b[0m\u001b[1;36m3\u001b[0m, \u001b[1;36m3\u001b[0m, \u001b[33mkernel_size\u001b[0m=\u001b[1m(\u001b[0m\u001b[1;36m3\u001b[0m, \u001b[1;36m3\u001b[0m\u001b[1m)\u001b[0m, \u001b[33mstride\u001b[0m=\u001b[1m(\u001b[0m\u001b[1;36m1\u001b[0m, \u001b[1;36m1\u001b[0m\u001b[1m)\u001b[0m, \u001b[33mpadding\u001b[0m=\u001b[1m(\u001b[0m\u001b[1;36m1\u001b[0m, \u001b[1;36m1\u001b[0m\u001b[1m)\u001b[0m\u001b[1m)\u001b[0m\n",
       "  \u001b[1m(\u001b[0mactivaion2\u001b[1m)\u001b[0m: \u001b[1;35mReLU\u001b[0m\u001b[1m(\u001b[0m\u001b[1m)\u001b[0m\n",
       "\u001b[1m)\u001b[0m\n"
      ]
     },
     "metadata": {},
     "output_type": "display_data"
    },
    {
     "data": {
      "text/html": [
       "<pre style=\"white-space:pre;overflow-x:auto;line-height:normal;font-family:Menlo,'DejaVu Sans Mono',consolas,'Courier New',monospace\">示例输入的形状为：\n",
       "</pre>\n"
      ],
      "text/plain": [
       "示例输入的形状为：\n"
      ]
     },
     "metadata": {},
     "output_type": "display_data"
    },
    {
     "data": {
      "text/html": [
       "<pre style=\"white-space:pre;overflow-x:auto;line-height:normal;font-family:Menlo,'DejaVu Sans Mono',consolas,'Courier New',monospace\"><span style=\"color: #800080; text-decoration-color: #800080; font-weight: bold\">torch.Size</span><span style=\"font-weight: bold\">([</span><span style=\"color: #008080; text-decoration-color: #008080; font-weight: bold\">16</span>, <span style=\"color: #008080; text-decoration-color: #008080; font-weight: bold\">3</span>, <span style=\"color: #008080; text-decoration-color: #008080; font-weight: bold\">28</span>, <span style=\"color: #008080; text-decoration-color: #008080; font-weight: bold\">28</span><span style=\"font-weight: bold\">])</span>\n",
       "</pre>\n"
      ],
      "text/plain": [
       "\u001b[1;35mtorch.Size\u001b[0m\u001b[1m(\u001b[0m\u001b[1m[\u001b[0m\u001b[1;36m16\u001b[0m, \u001b[1;36m3\u001b[0m, \u001b[1;36m28\u001b[0m, \u001b[1;36m28\u001b[0m\u001b[1m]\u001b[0m\u001b[1m)\u001b[0m\n"
      ]
     },
     "metadata": {},
     "output_type": "display_data"
    },
    {
     "data": {
      "text/html": [
       "<pre style=\"white-space:pre;overflow-x:auto;line-height:normal;font-family:Menlo,'DejaVu Sans Mono',consolas,'Courier New',monospace\">示例输出的形状为：\n",
       "</pre>\n"
      ],
      "text/plain": [
       "示例输出的形状为：\n"
      ]
     },
     "metadata": {},
     "output_type": "display_data"
    },
    {
     "data": {
      "text/html": [
       "<pre style=\"white-space:pre;overflow-x:auto;line-height:normal;font-family:Menlo,'DejaVu Sans Mono',consolas,'Courier New',monospace\"><span style=\"color: #800080; text-decoration-color: #800080; font-weight: bold\">torch.Size</span><span style=\"font-weight: bold\">([</span><span style=\"color: #008080; text-decoration-color: #008080; font-weight: bold\">16</span>, <span style=\"color: #008080; text-decoration-color: #008080; font-weight: bold\">3</span>, <span style=\"color: #008080; text-decoration-color: #008080; font-weight: bold\">28</span>, <span style=\"color: #008080; text-decoration-color: #008080; font-weight: bold\">28</span><span style=\"font-weight: bold\">])</span>\n",
       "</pre>\n"
      ],
      "text/plain": [
       "\u001b[1;35mtorch.Size\u001b[0m\u001b[1m(\u001b[0m\u001b[1m[\u001b[0m\u001b[1;36m16\u001b[0m, \u001b[1;36m3\u001b[0m, \u001b[1;36m28\u001b[0m, \u001b[1;36m28\u001b[0m\u001b[1m]\u001b[0m\u001b[1m)\u001b[0m\n"
      ]
     },
     "metadata": {},
     "output_type": "display_data"
    }
   ],
   "source": [
    "class Residual(nn.Module):\n",
    "    def __init__(self, channel: int) -> None:\n",
    "        super().__init__()\n",
    "        self.conv1 = nn.Conv2d(channel, channel, kernel_size = 3, stride = 1, padding = 1)\n",
    "        self.activaion1 = nn.ReLU()\n",
    "        self.conv2 = nn.Conv2d(channel, channel, kernel_size = 3, stride = 1, padding = 1)\n",
    "        self.activaion2 = nn.ReLU()\n",
    "    \n",
    "\n",
    "    def forward(self, x: torch.Tensor) -> torch.Tensor:\n",
    "        y = self.conv1(x)\n",
    "        y = self.activaion1(y)\n",
    "        y = self.conv2(y)\n",
    "        y = self.activaion2(y)\n",
    "        y = x + y\n",
    "        return y\n",
    "\n",
    "\n",
    "demo_model = Residual(3)\n",
    "\n",
    "print(\"模型为：\")\n",
    "print(demo_model)\n",
    "\n",
    "demo_input = torch.rand(16, 3, 28, 28)\n",
    "\n",
    "print(\"示例输入的形状为：\")\n",
    "print(demo_input.shape)\n",
    "\n",
    "demo_output = demo_model(demo_input)\n",
    "\n",
    "print(\"示例输出的形状为：\")\n",
    "print(demo_output.shape)"
   ]
  },
  {
   "cell_type": "markdown",
   "metadata": {},
   "source": [
    "### 可以自定义模块的打印\n",
    "\n",
    "通过重载`extra_repr`方法，可以将模型中的自定义参数打印在控制台中："
   ]
  },
  {
   "cell_type": "code",
   "execution_count": 14,
   "metadata": {},
   "outputs": [
    {
     "data": {
      "text/html": [
       "<pre style=\"white-space:pre;overflow-x:auto;line-height:normal;font-family:Menlo,'DejaVu Sans Mono',consolas,'Courier New',monospace\"><span style=\"color: #800080; text-decoration-color: #800080; font-weight: bold\">LinearAdd</span><span style=\"font-weight: bold\">(</span><span style=\"color: #808000; text-decoration-color: #808000\">a</span>=<span style=\"color: #008080; text-decoration-color: #008080; font-weight: bold\">0.250</span>, <span style=\"color: #808000; text-decoration-color: #808000\">b</span>=<span style=\"color: #008080; text-decoration-color: #008080; font-weight: bold\">0.750</span><span style=\"font-weight: bold\">)</span>\n",
       "</pre>\n"
      ],
      "text/plain": [
       "\u001b[1;35mLinearAdd\u001b[0m\u001b[1m(\u001b[0m\u001b[33ma\u001b[0m=\u001b[1;36m0\u001b[0m\u001b[1;36m.250\u001b[0m, \u001b[33mb\u001b[0m=\u001b[1;36m0\u001b[0m\u001b[1;36m.750\u001b[0m\u001b[1m)\u001b[0m\n"
      ]
     },
     "metadata": {},
     "output_type": "display_data"
    }
   ],
   "source": [
    "class LinearAdd(nn.Module):\n",
    "    def __init__(self, a: float, b: float) -> None:\n",
    "        super().__init__()\n",
    "        self.a = a\n",
    "        self.b = b\n",
    "    \n",
    "\n",
    "    def extra_repr(self) -> str:\n",
    "        return \"a=%.3f, b=%.3f\" % (self.a, self.b)\n",
    "    \n",
    "\n",
    "    def forward(self, x: torch.Tensor, y: torch.Tensor) -> torch.Tensor:\n",
    "        return self.a * x + self.b * y\n",
    "\n",
    "demo_model = LinearAdd(0.25, 0.75)\n",
    "print(demo_model)"
   ]
  },
  {
   "cell_type": "markdown",
   "metadata": {},
   "source": [
    "知道如何通过模块构造神经网络之后，我们就可以着手构造我们的神经网络了。然而，单单会构造还不够，为了使神经网络更好地满足我们的需求，我们还应该学会训练它。在下一部分，我们会讨论由PyTorch构建出的神经网络应该如何训练。"
   ]
  }
 ],
 "metadata": {
  "kernelspec": {
   "display_name": "base",
   "language": "python",
   "name": "python3"
  },
  "language_info": {
   "codemirror_mode": {
    "name": "ipython",
    "version": 3
   },
   "file_extension": ".py",
   "mimetype": "text/x-python",
   "name": "python",
   "nbconvert_exporter": "python",
   "pygments_lexer": "ipython3",
   "version": "3.8.5"
  },
  "orig_nbformat": 4
 },
 "nbformat": 4,
 "nbformat_minor": 2
}
